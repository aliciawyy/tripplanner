{
 "cells": [
  {
   "cell_type": "code",
   "execution_count": 1,
   "metadata": {
    "collapsed": false
   },
   "outputs": [],
   "source": [
    "import googlemaps\n",
    "import pandas as pd\n",
    "import numpy as np\n",
    "from datetime import datetime\n",
    "\n",
    "import util\n",
    "import distance_mat as dm"
   ]
  },
  {
   "cell_type": "code",
   "execution_count": 2,
   "metadata": {
    "collapsed": true
   },
   "outputs": [],
   "source": [
    "city = \"Paris\"\n",
    "interest_list = ['outdoor_activity', \"museum\"]\n",
    "cl_dist = dm.DistanceClient(6)"
   ]
  },
  {
   "cell_type": "code",
   "execution_count": 3,
   "metadata": {
    "collapsed": true
   },
   "outputs": [],
   "source": [
    "dist_mat = dm.DistanceMatrix(city, interest_list, 6)"
   ]
  },
  {
   "cell_type": "code",
   "execution_count": 4,
   "metadata": {
    "collapsed": false
   },
   "outputs": [
    {
     "name": "stdout",
     "output_type": "stream",
     "text": [
      "         0       1       2       3       4       5       6       7       8  \\\n",
      "0   7200.0   753.0  1310.0  1347.0   964.0   979.0   645.0   854.0   452.0   \n",
      "1    753.0  7200.0  1606.0  2077.0  2375.0  1733.0   754.0  1483.0   630.0   \n",
      "2   1310.0  1606.0  7200.0  1454.0   702.0   947.0  1143.0   623.0  1410.0   \n",
      "3   1347.0  2077.0  1454.0  7200.0  1253.0   640.0  1091.0   968.0  1660.0   \n",
      "4    964.0  2375.0   702.0  1253.0  7200.0  1044.0  1198.0   977.0  1162.0   \n",
      "5    979.0  1733.0   947.0   640.0  1044.0  7200.0   428.0   792.0   770.0   \n",
      "6    645.0   754.0  1143.0  1091.0  1198.0   428.0  7200.0  1157.0   669.0   \n",
      "7    854.0  1483.0   623.0   968.0   977.0   792.0  1157.0  7200.0   745.0   \n",
      "8    452.0   630.0  1410.0  1660.0  1162.0   770.0   669.0   745.0  7200.0   \n",
      "9   1003.0  1348.0   448.0  1073.0  1186.0   707.0  1000.0   630.0  1200.0   \n",
      "10  1183.0  1755.0  1245.0   670.0   989.0   288.0   823.0  1041.0  1350.0   \n",
      "11  1260.0  1266.0   657.0  1451.0   734.0  1317.0  1450.0   865.0  1406.0   \n",
      "12   767.0  1741.0  1568.0  1297.0  1320.0  1049.0   582.0  1016.0   877.0   \n",
      "13  1323.0  1401.0   828.0  1625.0   807.0   961.0  1254.0   726.0  1047.0   \n",
      "14  1188.0  1751.0  1502.0   786.0  1846.0  1269.0   902.0  1432.0  1298.0   \n",
      "\n",
      "         9      10      11      12      13      14  \n",
      "0   1003.0  1183.0  1260.0   767.0  1323.0  1188.0  \n",
      "1   1348.0  1755.0  1266.0  1741.0  1401.0  1751.0  \n",
      "2    448.0  1245.0   657.0  1568.0   828.0  1502.0  \n",
      "3   1073.0   670.0  1451.0  1297.0  1625.0   786.0  \n",
      "4   1186.0   989.0   734.0  1320.0   807.0  1846.0  \n",
      "5    707.0   288.0  1317.0  1049.0   961.0  1269.0  \n",
      "6   1000.0   823.0  1450.0   582.0  1254.0   902.0  \n",
      "7    630.0  1041.0   865.0  1016.0   726.0  1432.0  \n",
      "8   1200.0  1350.0  1406.0   877.0  1047.0  1298.0  \n",
      "9   7200.0  1038.0   739.0  1082.0   584.0  1317.0  \n",
      "10  1038.0  7200.0  1495.0  1512.0  1236.0  1403.0  \n",
      "11   739.0  1495.0  7200.0  1592.0  1144.0  1493.0  \n",
      "12  1082.0  1512.0  1592.0  7200.0  1511.0   526.0  \n",
      "13   584.0  1236.0  1144.0  1511.0  7200.0  1791.0  \n",
      "14  1317.0  1403.0  1493.0   526.0  1791.0  7200.0  \n",
      "0      8\n",
      "1      8\n",
      "2      9\n",
      "3      5\n",
      "4      2\n",
      "5     10\n",
      "6      5\n",
      "7      2\n",
      "8      0\n",
      "9      2\n",
      "10     5\n",
      "11     2\n",
      "12    14\n",
      "13     9\n",
      "14    12\n",
      "dtype: int64\n",
      "set([1, 4, 6, 7, 10, 11, 13])\n",
      "set([1, 4, 6, 7, 10, 11, 13])\n",
      "set([4, 6, 7, 10, 11, 13])\n",
      "set([6, 7, 10, 11, 13])\n",
      "set([7, 10, 11, 13])\n",
      "set([10, 11, 13])\n",
      "set([11, 13])\n",
      "set([13])\n",
      "[set([8, 0, 1]), set([9, 2, 4]), set([3, 5, 6]), set([12, 14, 7]), set([10, 11, 13])]\n"
     ]
    }
   ],
   "source": [
    "df1 = cl_dist.get_the_plan(city, interest_list)"
   ]
  },
  {
   "cell_type": "code",
   "execution_count": 6,
   "metadata": {
    "collapsed": false
   },
   "outputs": [
    {
     "data": {
      "text/html": [
       "<div>\n",
       "<style>\n",
       "    .dataframe thead tr:only-child th {\n",
       "        text-align: right;\n",
       "    }\n",
       "\n",
       "    .dataframe thead th {\n",
       "        text-align: left;\n",
       "    }\n",
       "\n",
       "    .dataframe tbody tr th {\n",
       "        vertical-align: top;\n",
       "    }\n",
       "</style>\n",
       "<table border=\"1\" class=\"dataframe\">\n",
       "  <thead>\n",
       "    <tr style=\"text-align: right;\">\n",
       "      <th></th>\n",
       "      <th>0</th>\n",
       "      <th>1</th>\n",
       "      <th>2</th>\n",
       "      <th>3</th>\n",
       "      <th>4</th>\n",
       "      <th>5</th>\n",
       "      <th>6</th>\n",
       "      <th>7</th>\n",
       "      <th>8</th>\n",
       "      <th>9</th>\n",
       "      <th>10</th>\n",
       "      <th>11</th>\n",
       "      <th>12</th>\n",
       "      <th>13</th>\n",
       "      <th>14</th>\n",
       "    </tr>\n",
       "  </thead>\n",
       "  <tbody>\n",
       "    <tr>\n",
       "      <th>0</th>\n",
       "      <td>7200.0</td>\n",
       "      <td>753.0</td>\n",
       "      <td>1310.0</td>\n",
       "      <td>1347.0</td>\n",
       "      <td>964.0</td>\n",
       "      <td>979.0</td>\n",
       "      <td>645.0</td>\n",
       "      <td>854.0</td>\n",
       "      <td>452.0</td>\n",
       "      <td>1003.0</td>\n",
       "      <td>1183.0</td>\n",
       "      <td>1260.0</td>\n",
       "      <td>767.0</td>\n",
       "      <td>1323.0</td>\n",
       "      <td>1188.0</td>\n",
       "    </tr>\n",
       "    <tr>\n",
       "      <th>1</th>\n",
       "      <td>753.0</td>\n",
       "      <td>7200.0</td>\n",
       "      <td>1606.0</td>\n",
       "      <td>2077.0</td>\n",
       "      <td>2375.0</td>\n",
       "      <td>1733.0</td>\n",
       "      <td>754.0</td>\n",
       "      <td>1483.0</td>\n",
       "      <td>630.0</td>\n",
       "      <td>1348.0</td>\n",
       "      <td>1755.0</td>\n",
       "      <td>1266.0</td>\n",
       "      <td>1741.0</td>\n",
       "      <td>1401.0</td>\n",
       "      <td>1751.0</td>\n",
       "    </tr>\n",
       "    <tr>\n",
       "      <th>2</th>\n",
       "      <td>1310.0</td>\n",
       "      <td>1606.0</td>\n",
       "      <td>7200.0</td>\n",
       "      <td>1454.0</td>\n",
       "      <td>702.0</td>\n",
       "      <td>947.0</td>\n",
       "      <td>1143.0</td>\n",
       "      <td>623.0</td>\n",
       "      <td>1410.0</td>\n",
       "      <td>448.0</td>\n",
       "      <td>1245.0</td>\n",
       "      <td>657.0</td>\n",
       "      <td>1568.0</td>\n",
       "      <td>828.0</td>\n",
       "      <td>1502.0</td>\n",
       "    </tr>\n",
       "    <tr>\n",
       "      <th>3</th>\n",
       "      <td>1347.0</td>\n",
       "      <td>2077.0</td>\n",
       "      <td>1454.0</td>\n",
       "      <td>7200.0</td>\n",
       "      <td>1253.0</td>\n",
       "      <td>640.0</td>\n",
       "      <td>1091.0</td>\n",
       "      <td>968.0</td>\n",
       "      <td>1660.0</td>\n",
       "      <td>1073.0</td>\n",
       "      <td>670.0</td>\n",
       "      <td>1451.0</td>\n",
       "      <td>1297.0</td>\n",
       "      <td>1625.0</td>\n",
       "      <td>786.0</td>\n",
       "    </tr>\n",
       "    <tr>\n",
       "      <th>4</th>\n",
       "      <td>964.0</td>\n",
       "      <td>2375.0</td>\n",
       "      <td>702.0</td>\n",
       "      <td>1253.0</td>\n",
       "      <td>7200.0</td>\n",
       "      <td>1044.0</td>\n",
       "      <td>1198.0</td>\n",
       "      <td>977.0</td>\n",
       "      <td>1162.0</td>\n",
       "      <td>1186.0</td>\n",
       "      <td>989.0</td>\n",
       "      <td>734.0</td>\n",
       "      <td>1320.0</td>\n",
       "      <td>807.0</td>\n",
       "      <td>1846.0</td>\n",
       "    </tr>\n",
       "    <tr>\n",
       "      <th>5</th>\n",
       "      <td>979.0</td>\n",
       "      <td>1733.0</td>\n",
       "      <td>947.0</td>\n",
       "      <td>640.0</td>\n",
       "      <td>1044.0</td>\n",
       "      <td>7200.0</td>\n",
       "      <td>428.0</td>\n",
       "      <td>792.0</td>\n",
       "      <td>770.0</td>\n",
       "      <td>707.0</td>\n",
       "      <td>288.0</td>\n",
       "      <td>1317.0</td>\n",
       "      <td>1049.0</td>\n",
       "      <td>961.0</td>\n",
       "      <td>1269.0</td>\n",
       "    </tr>\n",
       "    <tr>\n",
       "      <th>6</th>\n",
       "      <td>645.0</td>\n",
       "      <td>754.0</td>\n",
       "      <td>1143.0</td>\n",
       "      <td>1091.0</td>\n",
       "      <td>1198.0</td>\n",
       "      <td>428.0</td>\n",
       "      <td>7200.0</td>\n",
       "      <td>1157.0</td>\n",
       "      <td>669.0</td>\n",
       "      <td>1000.0</td>\n",
       "      <td>823.0</td>\n",
       "      <td>1450.0</td>\n",
       "      <td>582.0</td>\n",
       "      <td>1254.0</td>\n",
       "      <td>902.0</td>\n",
       "    </tr>\n",
       "    <tr>\n",
       "      <th>7</th>\n",
       "      <td>854.0</td>\n",
       "      <td>1483.0</td>\n",
       "      <td>623.0</td>\n",
       "      <td>968.0</td>\n",
       "      <td>977.0</td>\n",
       "      <td>792.0</td>\n",
       "      <td>1157.0</td>\n",
       "      <td>7200.0</td>\n",
       "      <td>745.0</td>\n",
       "      <td>630.0</td>\n",
       "      <td>1041.0</td>\n",
       "      <td>865.0</td>\n",
       "      <td>1016.0</td>\n",
       "      <td>726.0</td>\n",
       "      <td>1432.0</td>\n",
       "    </tr>\n",
       "    <tr>\n",
       "      <th>8</th>\n",
       "      <td>452.0</td>\n",
       "      <td>630.0</td>\n",
       "      <td>1410.0</td>\n",
       "      <td>1660.0</td>\n",
       "      <td>1162.0</td>\n",
       "      <td>770.0</td>\n",
       "      <td>669.0</td>\n",
       "      <td>745.0</td>\n",
       "      <td>7200.0</td>\n",
       "      <td>1200.0</td>\n",
       "      <td>1350.0</td>\n",
       "      <td>1406.0</td>\n",
       "      <td>877.0</td>\n",
       "      <td>1047.0</td>\n",
       "      <td>1298.0</td>\n",
       "    </tr>\n",
       "    <tr>\n",
       "      <th>9</th>\n",
       "      <td>1003.0</td>\n",
       "      <td>1348.0</td>\n",
       "      <td>448.0</td>\n",
       "      <td>1073.0</td>\n",
       "      <td>1186.0</td>\n",
       "      <td>707.0</td>\n",
       "      <td>1000.0</td>\n",
       "      <td>630.0</td>\n",
       "      <td>1200.0</td>\n",
       "      <td>7200.0</td>\n",
       "      <td>1038.0</td>\n",
       "      <td>739.0</td>\n",
       "      <td>1082.0</td>\n",
       "      <td>584.0</td>\n",
       "      <td>1317.0</td>\n",
       "    </tr>\n",
       "    <tr>\n",
       "      <th>10</th>\n",
       "      <td>1183.0</td>\n",
       "      <td>1755.0</td>\n",
       "      <td>1245.0</td>\n",
       "      <td>670.0</td>\n",
       "      <td>989.0</td>\n",
       "      <td>288.0</td>\n",
       "      <td>823.0</td>\n",
       "      <td>1041.0</td>\n",
       "      <td>1350.0</td>\n",
       "      <td>1038.0</td>\n",
       "      <td>7200.0</td>\n",
       "      <td>1495.0</td>\n",
       "      <td>1512.0</td>\n",
       "      <td>1236.0</td>\n",
       "      <td>1403.0</td>\n",
       "    </tr>\n",
       "    <tr>\n",
       "      <th>11</th>\n",
       "      <td>1260.0</td>\n",
       "      <td>1266.0</td>\n",
       "      <td>657.0</td>\n",
       "      <td>1451.0</td>\n",
       "      <td>734.0</td>\n",
       "      <td>1317.0</td>\n",
       "      <td>1450.0</td>\n",
       "      <td>865.0</td>\n",
       "      <td>1406.0</td>\n",
       "      <td>739.0</td>\n",
       "      <td>1495.0</td>\n",
       "      <td>7200.0</td>\n",
       "      <td>1592.0</td>\n",
       "      <td>1144.0</td>\n",
       "      <td>1493.0</td>\n",
       "    </tr>\n",
       "    <tr>\n",
       "      <th>12</th>\n",
       "      <td>767.0</td>\n",
       "      <td>1741.0</td>\n",
       "      <td>1568.0</td>\n",
       "      <td>1297.0</td>\n",
       "      <td>1320.0</td>\n",
       "      <td>1049.0</td>\n",
       "      <td>582.0</td>\n",
       "      <td>1016.0</td>\n",
       "      <td>877.0</td>\n",
       "      <td>1082.0</td>\n",
       "      <td>1512.0</td>\n",
       "      <td>1592.0</td>\n",
       "      <td>7200.0</td>\n",
       "      <td>1511.0</td>\n",
       "      <td>526.0</td>\n",
       "    </tr>\n",
       "    <tr>\n",
       "      <th>13</th>\n",
       "      <td>1323.0</td>\n",
       "      <td>1401.0</td>\n",
       "      <td>828.0</td>\n",
       "      <td>1625.0</td>\n",
       "      <td>807.0</td>\n",
       "      <td>961.0</td>\n",
       "      <td>1254.0</td>\n",
       "      <td>726.0</td>\n",
       "      <td>1047.0</td>\n",
       "      <td>584.0</td>\n",
       "      <td>1236.0</td>\n",
       "      <td>1144.0</td>\n",
       "      <td>1511.0</td>\n",
       "      <td>7200.0</td>\n",
       "      <td>1791.0</td>\n",
       "    </tr>\n",
       "    <tr>\n",
       "      <th>14</th>\n",
       "      <td>1188.0</td>\n",
       "      <td>1751.0</td>\n",
       "      <td>1502.0</td>\n",
       "      <td>786.0</td>\n",
       "      <td>1846.0</td>\n",
       "      <td>1269.0</td>\n",
       "      <td>902.0</td>\n",
       "      <td>1432.0</td>\n",
       "      <td>1298.0</td>\n",
       "      <td>1317.0</td>\n",
       "      <td>1403.0</td>\n",
       "      <td>1493.0</td>\n",
       "      <td>526.0</td>\n",
       "      <td>1791.0</td>\n",
       "      <td>7200.0</td>\n",
       "    </tr>\n",
       "  </tbody>\n",
       "</table>\n",
       "</div>"
      ],
      "text/plain": [
       "         0       1       2       3       4       5       6       7       8  \\\n",
       "0   7200.0   753.0  1310.0  1347.0   964.0   979.0   645.0   854.0   452.0   \n",
       "1    753.0  7200.0  1606.0  2077.0  2375.0  1733.0   754.0  1483.0   630.0   \n",
       "2   1310.0  1606.0  7200.0  1454.0   702.0   947.0  1143.0   623.0  1410.0   \n",
       "3   1347.0  2077.0  1454.0  7200.0  1253.0   640.0  1091.0   968.0  1660.0   \n",
       "4    964.0  2375.0   702.0  1253.0  7200.0  1044.0  1198.0   977.0  1162.0   \n",
       "5    979.0  1733.0   947.0   640.0  1044.0  7200.0   428.0   792.0   770.0   \n",
       "6    645.0   754.0  1143.0  1091.0  1198.0   428.0  7200.0  1157.0   669.0   \n",
       "7    854.0  1483.0   623.0   968.0   977.0   792.0  1157.0  7200.0   745.0   \n",
       "8    452.0   630.0  1410.0  1660.0  1162.0   770.0   669.0   745.0  7200.0   \n",
       "9   1003.0  1348.0   448.0  1073.0  1186.0   707.0  1000.0   630.0  1200.0   \n",
       "10  1183.0  1755.0  1245.0   670.0   989.0   288.0   823.0  1041.0  1350.0   \n",
       "11  1260.0  1266.0   657.0  1451.0   734.0  1317.0  1450.0   865.0  1406.0   \n",
       "12   767.0  1741.0  1568.0  1297.0  1320.0  1049.0   582.0  1016.0   877.0   \n",
       "13  1323.0  1401.0   828.0  1625.0   807.0   961.0  1254.0   726.0  1047.0   \n",
       "14  1188.0  1751.0  1502.0   786.0  1846.0  1269.0   902.0  1432.0  1298.0   \n",
       "\n",
       "         9      10      11      12      13      14  \n",
       "0   1003.0  1183.0  1260.0   767.0  1323.0  1188.0  \n",
       "1   1348.0  1755.0  1266.0  1741.0  1401.0  1751.0  \n",
       "2    448.0  1245.0   657.0  1568.0   828.0  1502.0  \n",
       "3   1073.0   670.0  1451.0  1297.0  1625.0   786.0  \n",
       "4   1186.0   989.0   734.0  1320.0   807.0  1846.0  \n",
       "5    707.0   288.0  1317.0  1049.0   961.0  1269.0  \n",
       "6   1000.0   823.0  1450.0   582.0  1254.0   902.0  \n",
       "7    630.0  1041.0   865.0  1016.0   726.0  1432.0  \n",
       "8   1200.0  1350.0  1406.0   877.0  1047.0  1298.0  \n",
       "9   7200.0  1038.0   739.0  1082.0   584.0  1317.0  \n",
       "10  1038.0  7200.0  1495.0  1512.0  1236.0  1403.0  \n",
       "11   739.0  1495.0  7200.0  1592.0  1144.0  1493.0  \n",
       "12  1082.0  1512.0  1592.0  7200.0  1511.0   526.0  \n",
       "13   584.0  1236.0  1144.0  1511.0  7200.0  1791.0  \n",
       "14  1317.0  1403.0  1493.0   526.0  1791.0  7200.0  "
      ]
     },
     "execution_count": 6,
     "metadata": {},
     "output_type": "execute_result"
    }
   ],
   "source": [
    "df_dist = dist_mat.full_dist_matrix\n",
    "df_dist"
   ]
  },
  {
   "cell_type": "code",
   "execution_count": 12,
   "metadata": {
    "collapsed": false
   },
   "outputs": [
    {
     "data": {
      "text/plain": [
       "'10'"
      ]
     },
     "execution_count": 12,
     "metadata": {},
     "output_type": "execute_result"
    }
   ],
   "source": [
    "df_dist.iloc[df_dist.min(axis=1).idxmin()].idxmin()"
   ]
  },
  {
   "cell_type": "code",
   "execution_count": null,
   "metadata": {
    "collapsed": true
   },
   "outputs": [],
   "source": []
  },
  {
   "cell_type": "code",
   "execution_count": null,
   "metadata": {
    "collapsed": true
   },
   "outputs": [],
   "source": []
  },
  {
   "cell_type": "code",
   "execution_count": null,
   "metadata": {
    "collapsed": false
   },
   "outputs": [],
   "source": [
    "dist_mat.plan.sort_values(\"day_plan\").drop([\"photo_ref\", \"x\", \"y\"], 1)"
   ]
  },
  {
   "cell_type": "code",
   "execution_count": null,
   "metadata": {
    "collapsed": false
   },
   "outputs": [],
   "source": [
    "df0 = pd.read_csv(filename)\n",
    "df0[[\"name\", \"day_plan\"]].sort_values(\"day_plan\")"
   ]
  },
  {
   "cell_type": "code",
   "execution_count": null,
   "metadata": {
    "collapsed": false
   },
   "outputs": [],
   "source": [
    "df1 = df + np.eye(len(df)) * cl_dist.max_transit_time"
   ]
  },
  {
   "cell_type": "code",
   "execution_count": null,
   "metadata": {
    "collapsed": true
   },
   "outputs": [],
   "source": [
    "for i in range(len(df)):\n",
    "    df1.iloc[i, i + 1:] = df.iloc[i + 1:, i].values"
   ]
  },
  {
   "cell_type": "code",
   "execution_count": null,
   "metadata": {
    "collapsed": false,
    "scrolled": true
   },
   "outputs": [],
   "source": [
    "series =df1.idxmin()\n",
    "series.index = series.index.astype(int)\n",
    "series"
   ]
  },
  {
   "cell_type": "code",
   "execution_count": null,
   "metadata": {
    "collapsed": false
   },
   "outputs": [],
   "source": [
    "df.iloc[5:, 4]"
   ]
  },
  {
   "cell_type": "code",
   "execution_count": null,
   "metadata": {
    "collapsed": true
   },
   "outputs": [],
   "source": []
  },
  {
   "cell_type": "code",
   "execution_count": null,
   "metadata": {
    "collapsed": true
   },
   "outputs": [],
   "source": [
    "df_info = cl_dist.regroup_interest_sites(\"Paris\", ['outdoor_activity', \"museum\"]).set_index(\"name\")"
   ]
  },
  {
   "cell_type": "code",
   "execution_count": null,
   "metadata": {
    "collapsed": false
   },
   "outputs": [],
   "source": [
    "int(2.5) + 1"
   ]
  },
  {
   "cell_type": "code",
   "execution_count": null,
   "metadata": {
    "collapsed": false
   },
   "outputs": [],
   "source": [
    "df[\"photo_ref\"][0]"
   ]
  },
  {
   "cell_type": "code",
   "execution_count": null,
   "metadata": {
    "collapsed": false
   },
   "outputs": [],
   "source": [
    "df = pd.read_csv(util.get_dump_filename(\"Paris\", \"museum\", \"csv\"), index_col=0)\n",
    "df.drop([\"photo_ref\"], 1).sort_values(\"rating\", ascending=False)"
   ]
  },
  {
   "cell_type": "code",
   "execution_count": null,
   "metadata": {
    "collapsed": false
   },
   "outputs": [],
   "source": [
    "df = pd.read_csv(util.get_dump_filename(\"Paris\", \"outdoor_activity\", \"csv\"), index_col=0)\n",
    "df.drop([\"photo_ref\"], 1).sort_values(\"rating\", ascending=False)"
   ]
  },
  {
   "cell_type": "code",
   "execution_count": null,
   "metadata": {
    "collapsed": false
   },
   "outputs": [],
   "source": [
    "df[[\"x\", \"y\"]]"
   ]
  },
  {
   "cell_type": "code",
   "execution_count": null,
   "metadata": {
    "collapsed": false
   },
   "outputs": [],
   "source": [
    "gmaps_place = googlemaps.Client(APIKeys.place)\n",
    "place = gmaps_place.place('ChIJD3uTd9hx5kcR1IQvGfr8dbk')"
   ]
  },
  {
   "cell_type": "code",
   "execution_count": null,
   "metadata": {
    "collapsed": false
   },
   "outputs": [],
   "source": [
    "place"
   ]
  },
  {
   "cell_type": "code",
   "execution_count": null,
   "metadata": {
    "collapsed": false
   },
   "outputs": [],
   "source": [
    "location_paris = (48.852737, 2.350699)\n",
    "places_paris = gmaps_place.places('gallery', location=location_paris, radius=1000)"
   ]
  },
  {
   "cell_type": "code",
   "execution_count": null,
   "metadata": {
    "collapsed": false
   },
   "outputs": [],
   "source": [
    "sorted(places_paris['results'], key=lambda p: p.get('rating', 1), reverse=True)"
   ]
  },
  {
   "cell_type": "code",
   "execution_count": null,
   "metadata": {
    "collapsed": false
   },
   "outputs": [],
   "source": [
    "places_paris[\"results\"]"
   ]
  },
  {
   "cell_type": "code",
   "execution_count": null,
   "metadata": {
    "collapsed": false
   },
   "outputs": [],
   "source": [
    "len(places_paris['results'])"
   ]
  },
  {
   "cell_type": "code",
   "execution_count": null,
   "metadata": {
    "collapsed": false
   },
   "outputs": [],
   "source": [
    "import operator\n",
    "sorted_places = sorted(places_paris['results'], key=operator.itemgetter('rating'), reverse=True)"
   ]
  },
  {
   "cell_type": "code",
   "execution_count": null,
   "metadata": {
    "collapsed": false
   },
   "outputs": [],
   "source": [
    "def get_coord(info):\n",
    "    xy = info['geometry']['location']\n",
    "    return xy['lat'], xy[\"lng\"]\n",
    "\n",
    "coords = map(get_coord, sorted_places[:5])"
   ]
  },
  {
   "cell_type": "code",
   "execution_count": null,
   "metadata": {
    "collapsed": false
   },
   "outputs": [],
   "source": [
    "coords = df[[\"x\", \"y\"]].values[:4]"
   ]
  },
  {
   "cell_type": "code",
   "execution_count": null,
   "metadata": {
    "collapsed": false
   },
   "outputs": [],
   "source": [
    "filename = util.get_dump_filename(\"dist-Paris\", \"outdoor_activity-museum\", \"csv\")"
   ]
  },
  {
   "cell_type": "code",
   "execution_count": null,
   "metadata": {
    "collapsed": true
   },
   "outputs": [],
   "source": [
    "df.T.to_csv(filename)"
   ]
  },
  {
   "cell_type": "code",
   "execution_count": null,
   "metadata": {
    "collapsed": false
   },
   "outputs": [],
   "source": [
    "df = pd.read_csv(\"../dist_matrix.csv\", index_col=0)\n",
    "df"
   ]
  },
  {
   "cell_type": "code",
   "execution_count": null,
   "metadata": {
    "collapsed": false
   },
   "outputs": [],
   "source": [
    "df.T"
   ]
  },
  {
   "cell_type": "code",
   "execution_count": null,
   "metadata": {
    "collapsed": true
   },
   "outputs": [],
   "source": []
  },
  {
   "cell_type": "code",
   "execution_count": null,
   "metadata": {
    "collapsed": true
   },
   "outputs": [],
   "source": []
  },
  {
   "cell_type": "code",
   "execution_count": null,
   "metadata": {
    "collapsed": true
   },
   "outputs": [],
   "source": []
  },
  {
   "cell_type": "code",
   "execution_count": null,
   "metadata": {
    "collapsed": false
   },
   "outputs": [],
   "source": [
    "dist_client = googlemaps.Client(APIKeys.distance)"
   ]
  },
  {
   "cell_type": "code",
   "execution_count": null,
   "metadata": {
    "collapsed": false
   },
   "outputs": [],
   "source": [
    "dist_matrix = dist_client.distance_matrix(coords, coords, mode=\"transit\")"
   ]
  },
  {
   "cell_type": "code",
   "execution_count": null,
   "metadata": {
    "collapsed": false
   },
   "outputs": [],
   "source": [
    "dist_matrix[u'destination_addresses']"
   ]
  },
  {
   "cell_type": "code",
   "execution_count": null,
   "metadata": {
    "collapsed": false
   },
   "outputs": [],
   "source": [
    "dist_matrix['rows'][0]['elements']"
   ]
  },
  {
   "cell_type": "code",
   "execution_count": null,
   "metadata": {
    "collapsed": false
   },
   "outputs": [],
   "source": [
    "result = []\n",
    "for i, row in enumerate(dist_matrix[\"rows\"]):\n",
    "    res = []\n",
    "    for j, element in enumerate(row['elements']):\n",
    "        if i == j:\n",
    "            res0 = 0\n",
    "        else:\n",
    "            res0 = element[\"duration\"][\"value\"]\n",
    "        res.append(res0)\n",
    "    result.append(res)"
   ]
  },
  {
   "cell_type": "code",
   "execution_count": null,
   "metadata": {
    "collapsed": false
   },
   "outputs": [],
   "source": [
    "result"
   ]
  },
  {
   "cell_type": "code",
   "execution_count": null,
   "metadata": {
    "collapsed": false
   },
   "outputs": [],
   "source": [
    "details"
   ]
  },
  {
   "cell_type": "code",
   "execution_count": null,
   "metadata": {
    "collapsed": true
   },
   "outputs": [],
   "source": []
  }
 ],
 "metadata": {
  "kernelspec": {
   "display_name": "Python 2",
   "language": "python",
   "name": "python2"
  },
  "language_info": {
   "codemirror_mode": {
    "name": "ipython",
    "version": 2
   },
   "file_extension": ".py",
   "mimetype": "text/x-python",
   "name": "python",
   "nbconvert_exporter": "python",
   "pygments_lexer": "ipython2",
   "version": "2.7.6"
  }
 },
 "nbformat": 4,
 "nbformat_minor": 2
}
