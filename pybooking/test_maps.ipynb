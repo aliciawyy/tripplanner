{
 "cells": [
  {
   "cell_type": "code",
   "execution_count": 11,
   "metadata": {
    "collapsed": false
   },
   "outputs": [],
   "source": [
    "import googlemaps\n",
    "import pandas as pd\n",
    "import numpy as np\n",
    "from datetime import datetime\n",
    "import util\n",
    "import distance_mat as dm"
   ]
  },
  {
   "cell_type": "code",
   "execution_count": 12,
   "metadata": {
    "collapsed": true
   },
   "outputs": [],
   "source": [
    "city = \"Paris\"\n",
    "interest_list = ['outdoor_activity', \"museum\"]"
   ]
  },
  {
   "cell_type": "code",
   "execution_count": null,
   "metadata": {
    "collapsed": true
   },
   "outputs": [],
   "source": []
  },
  {
   "cell_type": "code",
   "execution_count": 2,
   "metadata": {
    "collapsed": false
   },
   "outputs": [],
   "source": [
    "cl_dist = dm.DistanceClient()"
   ]
  },
  {
   "cell_type": "code",
   "execution_count": 18,
   "metadata": {
    "collapsed": false
   },
   "outputs": [
    {
     "data": {
      "text/plain": [
       "0        NaN\n",
       "1        NaN\n",
       "2        NaN\n",
       "3        NaN\n",
       "4        NaN\n",
       "5        NaN\n",
       "6        NaN\n",
       "7        NaN\n",
       "8        NaN\n",
       "9        NaN\n",
       "10       NaN\n",
       "11       NaN\n",
       "12       NaN\n",
       "13       0.0\n",
       "14    1614.0\n",
       "Name: 13, dtype: float64"
      ]
     },
     "execution_count": 18,
     "metadata": {},
     "output_type": "execute_result"
    }
   ],
   "source": [
    "df = cl_dist.get_distance_matrix(city, interest_list)\n",
    "df['14'] ="
   ]
  },
  {
   "cell_type": "code",
   "execution_count": 13,
   "metadata": {
    "collapsed": false
   },
   "outputs": [
    {
     "ename": "ValueError",
     "evalue": "Input must be 1- or 2-d.",
     "output_type": "error",
     "traceback": [
      "\u001b[1;31m---------------------------------------------------------------------------\u001b[0m",
      "\u001b[1;31mValueError\u001b[0m                                Traceback (most recent call last)",
      "\u001b[1;32m<ipython-input-13-ac6eb1b173ec>\u001b[0m in \u001b[0;36m<module>\u001b[1;34m()\u001b[0m\n\u001b[1;32m----> 1\u001b[1;33m \u001b[0mdf\u001b[0m \u001b[1;33m+\u001b[0m \u001b[0mnp\u001b[0m\u001b[1;33m.\u001b[0m\u001b[0mdiag\u001b[0m\u001b[1;33m(\u001b[0m\u001b[0mcl_dist\u001b[0m\u001b[1;33m.\u001b[0m\u001b[0mmax_transit_time\u001b[0m\u001b[1;33m,\u001b[0m \u001b[0mlen\u001b[0m\u001b[1;33m(\u001b[0m\u001b[0mdf\u001b[0m\u001b[1;33m)\u001b[0m\u001b[1;33m)\u001b[0m\u001b[1;33m\u001b[0m\u001b[0m\n\u001b[0m",
      "\u001b[1;32m/usr/local/lib/python2.7/dist-packages/numpy/lib/twodim_base.pyc\u001b[0m in \u001b[0;36mdiag\u001b[1;34m(v, k)\u001b[0m\n\u001b[0;32m    257\u001b[0m         \u001b[1;32mreturn\u001b[0m \u001b[0mdiagonal\u001b[0m\u001b[1;33m(\u001b[0m\u001b[0mv\u001b[0m\u001b[1;33m,\u001b[0m \u001b[0mk\u001b[0m\u001b[1;33m)\u001b[0m\u001b[1;33m\u001b[0m\u001b[0m\n\u001b[0;32m    258\u001b[0m     \u001b[1;32melse\u001b[0m\u001b[1;33m:\u001b[0m\u001b[1;33m\u001b[0m\u001b[0m\n\u001b[1;32m--> 259\u001b[1;33m         \u001b[1;32mraise\u001b[0m \u001b[0mValueError\u001b[0m\u001b[1;33m(\u001b[0m\u001b[1;34m\"Input must be 1- or 2-d.\"\u001b[0m\u001b[1;33m)\u001b[0m\u001b[1;33m\u001b[0m\u001b[0m\n\u001b[0m\u001b[0;32m    260\u001b[0m \u001b[1;33m\u001b[0m\u001b[0m\n\u001b[0;32m    261\u001b[0m \u001b[1;33m\u001b[0m\u001b[0m\n",
      "\u001b[1;31mValueError\u001b[0m: Input must be 1- or 2-d."
     ]
    }
   ],
   "source": [
    "df + np.diag(cl_dist.max_transit_time, len(df))"
   ]
  },
  {
   "cell_type": "code",
   "execution_count": 7,
   "metadata": {
    "collapsed": true
   },
   "outputs": [],
   "source": [
    "df_info = cl_dist.regroup_interest_sites(\"Paris\", ['outdoor_activity', \"museum\"]).set_index(\"name\")"
   ]
  },
  {
   "cell_type": "code",
   "execution_count": 8,
   "metadata": {
    "collapsed": false
   },
   "outputs": [
    {
     "data": {
      "text/html": [
       "<div>\n",
       "<style>\n",
       "    .dataframe thead tr:only-child th {\n",
       "        text-align: right;\n",
       "    }\n",
       "\n",
       "    .dataframe thead th {\n",
       "        text-align: left;\n",
       "    }\n",
       "\n",
       "    .dataframe tbody tr th {\n",
       "        vertical-align: top;\n",
       "    }\n",
       "</style>\n",
       "<table border=\"1\" class=\"dataframe\">\n",
       "  <thead>\n",
       "    <tr style=\"text-align: right;\">\n",
       "      <th></th>\n",
       "      <th>interest</th>\n",
       "      <th>rating</th>\n",
       "      <th>photo_ref</th>\n",
       "      <th>place_types</th>\n",
       "      <th>y</th>\n",
       "      <th>x</th>\n",
       "      <th>id</th>\n",
       "      <th>transit_time</th>\n",
       "    </tr>\n",
       "    <tr>\n",
       "      <th>name</th>\n",
       "      <th></th>\n",
       "      <th></th>\n",
       "      <th></th>\n",
       "      <th></th>\n",
       "      <th></th>\n",
       "      <th></th>\n",
       "      <th></th>\n",
       "      <th></th>\n",
       "    </tr>\n",
       "  </thead>\n",
       "  <tbody>\n",
       "    <tr>\n",
       "      <th>Louvre Museum</th>\n",
       "      <td>museum</td>\n",
       "      <td>4.7</td>\n",
       "      <td>CmRaAAAAVDzikNpQ3grWqWl_aFtJff0Iwl0DXKpkSzqvf0...</td>\n",
       "      <td>museum</td>\n",
       "      <td>2.337644</td>\n",
       "      <td>48.860611</td>\n",
       "      <td>ChIJD3uTd9hx5kcR1IQvGfr8dbk</td>\n",
       "      <td>736</td>\n",
       "    </tr>\n",
       "    <tr>\n",
       "      <th>Musée d'Orsay</th>\n",
       "      <td>museum</td>\n",
       "      <td>4.7</td>\n",
       "      <td>CmRaAAAAUuv_7sDplEash5gFeGguXqD9YBO5HN9KpD1oLR...</td>\n",
       "      <td>museum</td>\n",
       "      <td>2.326561</td>\n",
       "      <td>48.859961</td>\n",
       "      <td>ChIJG5Qwtitu5kcR2CNEsYy9cdA</td>\n",
       "      <td>831</td>\n",
       "    </tr>\n",
       "    <tr>\n",
       "      <th>Musée Curie - Institut Curie</th>\n",
       "      <td>museum</td>\n",
       "      <td>4.5</td>\n",
       "      <td>CmRaAAAACTYNAGp4xrhMrh4LNpT3FYd8ZTkZ2chmMUw7kC...</td>\n",
       "      <td>museum</td>\n",
       "      <td>2.344828</td>\n",
       "      <td>48.844223</td>\n",
       "      <td>ChIJjU2KN-hx5kcR3wlTp_OOrXA</td>\n",
       "      <td>1180</td>\n",
       "    </tr>\n",
       "    <tr>\n",
       "      <th>Metiers Art Museum</th>\n",
       "      <td>museum</td>\n",
       "      <td>4.5</td>\n",
       "      <td>CmRaAAAASZs2llkSCL8I1-IWgROe-L4qfthZl3-skIvBVk...</td>\n",
       "      <td>museum</td>\n",
       "      <td>2.355438</td>\n",
       "      <td>48.866639</td>\n",
       "      <td>ChIJNUTIphpu5kcR4h07VuxFIHc</td>\n",
       "      <td>714</td>\n",
       "    </tr>\n",
       "    <tr>\n",
       "      <th>National Museum of Natural History</th>\n",
       "      <td>museum</td>\n",
       "      <td>4.5</td>\n",
       "      <td>CmRaAAAADMQZYiQwQmhE4GOmJHpJNP_sdTaxImx6Ci9Fbi...</td>\n",
       "      <td>museum</td>\n",
       "      <td>2.356210</td>\n",
       "      <td>48.844342</td>\n",
       "      <td>ChIJEURALfFx5kcR4cbxSSHWQ0c</td>\n",
       "      <td>834</td>\n",
       "    </tr>\n",
       "    <tr>\n",
       "      <th>The Centre Pompidou</th>\n",
       "      <td>museum</td>\n",
       "      <td>4.4</td>\n",
       "      <td>CmRaAAAArtMvmXpW1VkYEhUHhKy5qOXkW9OA2cs-bSJqOF...</td>\n",
       "      <td>museum</td>\n",
       "      <td>2.352245</td>\n",
       "      <td>48.860642</td>\n",
       "      <td>ChIJoyC4CRxu5kcRRTPcWX5srLc</td>\n",
       "      <td>569</td>\n",
       "    </tr>\n",
       "    <tr>\n",
       "      <th>Bibliothèque-musée de l'Opéra</th>\n",
       "      <td>museum</td>\n",
       "      <td>4.4</td>\n",
       "      <td>CmRaAAAAO5udEm9w1Xbjr5xZRMLKtiQiD_j-2sZKiNnS6h...</td>\n",
       "      <td>museum</td>\n",
       "      <td>2.331714</td>\n",
       "      <td>48.872005</td>\n",
       "      <td>ChIJ5S5QKjFu5kcRx5gcUAcDn34</td>\n",
       "      <td>543</td>\n",
       "    </tr>\n",
       "    <tr>\n",
       "      <th>Cluny Museum - National Museum of Medieval Art</th>\n",
       "      <td>museum</td>\n",
       "      <td>4.4</td>\n",
       "      <td>CmRaAAAAkmTexSXHGeXxPdmv-Nb1iGZALieASNOJ_jyqjJ...</td>\n",
       "      <td>museum</td>\n",
       "      <td>2.344081</td>\n",
       "      <td>48.850483</td>\n",
       "      <td>ChIJLxPh9d1x5kcRf7M1U0pu1gU</td>\n",
       "      <td>828</td>\n",
       "    </tr>\n",
       "    <tr>\n",
       "      <th>Museum of Decorative Arts</th>\n",
       "      <td>museum</td>\n",
       "      <td>4.4</td>\n",
       "      <td>CmRaAAAATOuJ9y5c8LUkGhMPHLmxbby5FSKGP-RKupPXGH...</td>\n",
       "      <td>museum</td>\n",
       "      <td>2.333395</td>\n",
       "      <td>48.863063</td>\n",
       "      <td>ChIJ_QwlZC9u5kcRi6OALXVubvc</td>\n",
       "      <td>894</td>\n",
       "    </tr>\n",
       "    <tr>\n",
       "      <th>Museum of Art and History of Judaism</th>\n",
       "      <td>museum</td>\n",
       "      <td>4.3</td>\n",
       "      <td>CmRaAAAAAklGVnkX4c7OQBZ8_Il6eUaoEeqxfPmNC3YF_R...</td>\n",
       "      <td>museum</td>\n",
       "      <td>2.355611</td>\n",
       "      <td>48.861010</td>\n",
       "      <td>ChIJydDIqRxu5kcRqB6W-MQwcYU</td>\n",
       "      <td>421</td>\n",
       "    </tr>\n",
       "    <tr>\n",
       "      <th>Museum of Minerals MINES ParisTech</th>\n",
       "      <td>museum</td>\n",
       "      <td>4.3</td>\n",
       "      <td>CmRaAAAAeb-WCcY_FajNijXD5Xut3v2gOR996OvmTts376...</td>\n",
       "      <td>museum</td>\n",
       "      <td>2.339402</td>\n",
       "      <td>48.845119</td>\n",
       "      <td>ChIJd104OsNx5kcRqW8-Crk_dKk</td>\n",
       "      <td>822</td>\n",
       "    </tr>\n",
       "    <tr>\n",
       "      <th>Arab World Institute</th>\n",
       "      <td>museum</td>\n",
       "      <td>4.2</td>\n",
       "      <td>CmRaAAAAt0OVf0Ee1rIyMBymxFX5KYYUs-56Q6wLlC8KC9...</td>\n",
       "      <td>museum|library</td>\n",
       "      <td>2.357231</td>\n",
       "      <td>48.848926</td>\n",
       "      <td>ChIJK-03I_tx5kcRdA4Cj8VV1b4</td>\n",
       "      <td>1130</td>\n",
       "    </tr>\n",
       "    <tr>\n",
       "      <th>Museum of Freemasonry</th>\n",
       "      <td>museum</td>\n",
       "      <td>4.2</td>\n",
       "      <td>CmRaAAAAKaPebsAlv_tTrRl5yIwMKkeHUUpkCPPrV6rEJq...</td>\n",
       "      <td>museum</td>\n",
       "      <td>2.343150</td>\n",
       "      <td>48.874884</td>\n",
       "      <td>ChIJ5WeFCj9u5kcR7-yd40IpLKY</td>\n",
       "      <td>997</td>\n",
       "    </tr>\n",
       "    <tr>\n",
       "      <th>Adrenaline Hunter</th>\n",
       "      <td>outdoor_activity</td>\n",
       "      <td>3.0</td>\n",
       "      <td>CmRaAAAAp7zzVQvESFHfXnlF-1GgN7VMci8jyRzc8a-hY2...</td>\n",
       "      <td>NaN</td>\n",
       "      <td>2.347796</td>\n",
       "      <td>48.871429</td>\n",
       "      <td>ChIJ3wzT2RVu5kcRJBRJhpyOTt4</td>\n",
       "      <td>1368</td>\n",
       "    </tr>\n",
       "    <tr>\n",
       "      <th>Outdoor Gym</th>\n",
       "      <td>outdoor_activity</td>\n",
       "      <td>2.5</td>\n",
       "      <td>CmRaAAAAO2XA8AXjprip954XC7x9132D5FGmNrAg3byzc5...</td>\n",
       "      <td>gym|health</td>\n",
       "      <td>2.324969</td>\n",
       "      <td>48.861072</td>\n",
       "      <td>ChIJIX3FeStu5kcR14OLp7LiCfM</td>\n",
       "      <td>833</td>\n",
       "    </tr>\n",
       "  </tbody>\n",
       "</table>\n",
       "</div>"
      ],
      "text/plain": [
       "                                                        interest  rating  \\\n",
       "name                                                                       \n",
       "Louvre Museum                                             museum     4.7   \n",
       "Musée d'Orsay                                             museum     4.7   \n",
       "Musée Curie - Institut Curie                              museum     4.5   \n",
       "Metiers Art Museum                                        museum     4.5   \n",
       "National Museum of Natural History                        museum     4.5   \n",
       "The Centre Pompidou                                       museum     4.4   \n",
       "Bibliothèque-musée de l'Opéra                             museum     4.4   \n",
       "Cluny Museum - National Museum of Medieval Art            museum     4.4   \n",
       "Museum of Decorative Arts                                 museum     4.4   \n",
       "Museum of Art and History of Judaism                      museum     4.3   \n",
       "Museum of Minerals MINES ParisTech                        museum     4.3   \n",
       "Arab World Institute                                      museum     4.2   \n",
       "Museum of Freemasonry                                     museum     4.2   \n",
       "Adrenaline Hunter                               outdoor_activity     3.0   \n",
       "Outdoor Gym                                     outdoor_activity     2.5   \n",
       "\n",
       "                                                                                        photo_ref  \\\n",
       "name                                                                                                \n",
       "Louvre Museum                                   CmRaAAAAVDzikNpQ3grWqWl_aFtJff0Iwl0DXKpkSzqvf0...   \n",
       "Musée d'Orsay                                   CmRaAAAAUuv_7sDplEash5gFeGguXqD9YBO5HN9KpD1oLR...   \n",
       "Musée Curie - Institut Curie                    CmRaAAAACTYNAGp4xrhMrh4LNpT3FYd8ZTkZ2chmMUw7kC...   \n",
       "Metiers Art Museum                              CmRaAAAASZs2llkSCL8I1-IWgROe-L4qfthZl3-skIvBVk...   \n",
       "National Museum of Natural History              CmRaAAAADMQZYiQwQmhE4GOmJHpJNP_sdTaxImx6Ci9Fbi...   \n",
       "The Centre Pompidou                             CmRaAAAArtMvmXpW1VkYEhUHhKy5qOXkW9OA2cs-bSJqOF...   \n",
       "Bibliothèque-musée de l'Opéra                   CmRaAAAAO5udEm9w1Xbjr5xZRMLKtiQiD_j-2sZKiNnS6h...   \n",
       "Cluny Museum - National Museum of Medieval Art  CmRaAAAAkmTexSXHGeXxPdmv-Nb1iGZALieASNOJ_jyqjJ...   \n",
       "Museum of Decorative Arts                       CmRaAAAATOuJ9y5c8LUkGhMPHLmxbby5FSKGP-RKupPXGH...   \n",
       "Museum of Art and History of Judaism            CmRaAAAAAklGVnkX4c7OQBZ8_Il6eUaoEeqxfPmNC3YF_R...   \n",
       "Museum of Minerals MINES ParisTech              CmRaAAAAeb-WCcY_FajNijXD5Xut3v2gOR996OvmTts376...   \n",
       "Arab World Institute                            CmRaAAAAt0OVf0Ee1rIyMBymxFX5KYYUs-56Q6wLlC8KC9...   \n",
       "Museum of Freemasonry                           CmRaAAAAKaPebsAlv_tTrRl5yIwMKkeHUUpkCPPrV6rEJq...   \n",
       "Adrenaline Hunter                               CmRaAAAAp7zzVQvESFHfXnlF-1GgN7VMci8jyRzc8a-hY2...   \n",
       "Outdoor Gym                                     CmRaAAAAO2XA8AXjprip954XC7x9132D5FGmNrAg3byzc5...   \n",
       "\n",
       "                                                   place_types         y  \\\n",
       "name                                                                       \n",
       "Louvre Museum                                           museum  2.337644   \n",
       "Musée d'Orsay                                           museum  2.326561   \n",
       "Musée Curie - Institut Curie                            museum  2.344828   \n",
       "Metiers Art Museum                                      museum  2.355438   \n",
       "National Museum of Natural History                      museum  2.356210   \n",
       "The Centre Pompidou                                     museum  2.352245   \n",
       "Bibliothèque-musée de l'Opéra                           museum  2.331714   \n",
       "Cluny Museum - National Museum of Medieval Art          museum  2.344081   \n",
       "Museum of Decorative Arts                               museum  2.333395   \n",
       "Museum of Art and History of Judaism                    museum  2.355611   \n",
       "Museum of Minerals MINES ParisTech                      museum  2.339402   \n",
       "Arab World Institute                            museum|library  2.357231   \n",
       "Museum of Freemasonry                                   museum  2.343150   \n",
       "Adrenaline Hunter                                          NaN  2.347796   \n",
       "Outdoor Gym                                         gym|health  2.324969   \n",
       "\n",
       "                                                        x  \\\n",
       "name                                                        \n",
       "Louvre Museum                                   48.860611   \n",
       "Musée d'Orsay                                   48.859961   \n",
       "Musée Curie - Institut Curie                    48.844223   \n",
       "Metiers Art Museum                              48.866639   \n",
       "National Museum of Natural History              48.844342   \n",
       "The Centre Pompidou                             48.860642   \n",
       "Bibliothèque-musée de l'Opéra                   48.872005   \n",
       "Cluny Museum - National Museum of Medieval Art  48.850483   \n",
       "Museum of Decorative Arts                       48.863063   \n",
       "Museum of Art and History of Judaism            48.861010   \n",
       "Museum of Minerals MINES ParisTech              48.845119   \n",
       "Arab World Institute                            48.848926   \n",
       "Museum of Freemasonry                           48.874884   \n",
       "Adrenaline Hunter                               48.871429   \n",
       "Outdoor Gym                                     48.861072   \n",
       "\n",
       "                                                                         id  \\\n",
       "name                                                                          \n",
       "Louvre Museum                                   ChIJD3uTd9hx5kcR1IQvGfr8dbk   \n",
       "Musée d'Orsay                                   ChIJG5Qwtitu5kcR2CNEsYy9cdA   \n",
       "Musée Curie - Institut Curie                    ChIJjU2KN-hx5kcR3wlTp_OOrXA   \n",
       "Metiers Art Museum                              ChIJNUTIphpu5kcR4h07VuxFIHc   \n",
       "National Museum of Natural History              ChIJEURALfFx5kcR4cbxSSHWQ0c   \n",
       "The Centre Pompidou                             ChIJoyC4CRxu5kcRRTPcWX5srLc   \n",
       "Bibliothèque-musée de l'Opéra                   ChIJ5S5QKjFu5kcRx5gcUAcDn34   \n",
       "Cluny Museum - National Museum of Medieval Art  ChIJLxPh9d1x5kcRf7M1U0pu1gU   \n",
       "Museum of Decorative Arts                       ChIJ_QwlZC9u5kcRi6OALXVubvc   \n",
       "Museum of Art and History of Judaism            ChIJydDIqRxu5kcRqB6W-MQwcYU   \n",
       "Museum of Minerals MINES ParisTech              ChIJd104OsNx5kcRqW8-Crk_dKk   \n",
       "Arab World Institute                            ChIJK-03I_tx5kcRdA4Cj8VV1b4   \n",
       "Museum of Freemasonry                           ChIJ5WeFCj9u5kcR7-yd40IpLKY   \n",
       "Adrenaline Hunter                               ChIJ3wzT2RVu5kcRJBRJhpyOTt4   \n",
       "Outdoor Gym                                     ChIJIX3FeStu5kcR14OLp7LiCfM   \n",
       "\n",
       "                                                transit_time  \n",
       "name                                                          \n",
       "Louvre Museum                                            736  \n",
       "Musée d'Orsay                                            831  \n",
       "Musée Curie - Institut Curie                            1180  \n",
       "Metiers Art Museum                                       714  \n",
       "National Museum of Natural History                       834  \n",
       "The Centre Pompidou                                      569  \n",
       "Bibliothèque-musée de l'Opéra                            543  \n",
       "Cluny Museum - National Museum of Medieval Art           828  \n",
       "Museum of Decorative Arts                                894  \n",
       "Museum of Art and History of Judaism                     421  \n",
       "Museum of Minerals MINES ParisTech                       822  \n",
       "Arab World Institute                                    1130  \n",
       "Museum of Freemasonry                                    997  \n",
       "Adrenaline Hunter                                       1368  \n",
       "Outdoor Gym                                              833  "
      ]
     },
     "execution_count": 8,
     "metadata": {},
     "output_type": "execute_result"
    }
   ],
   "source": [
    "df_info"
   ]
  },
  {
   "cell_type": "code",
   "execution_count": null,
   "metadata": {
    "collapsed": false
   },
   "outputs": [],
   "source": [
    "df[\"photo_ref\"][0]"
   ]
  },
  {
   "cell_type": "code",
   "execution_count": null,
   "metadata": {
    "collapsed": false
   },
   "outputs": [],
   "source": [
    "df = pd.read_csv(util.get_dump_filename(\"Paris\", \"museum\", \"csv\"), index_col=0)\n",
    "df.drop([\"photo_ref\"], 1).sort_values(\"rating\", ascending=False)"
   ]
  },
  {
   "cell_type": "code",
   "execution_count": null,
   "metadata": {
    "collapsed": false
   },
   "outputs": [],
   "source": [
    "df = pd.read_csv(util.get_dump_filename(\"Paris\", \"outdoor_activity\", \"csv\"), index_col=0)\n",
    "df.drop([\"photo_ref\"], 1).sort_values(\"rating\", ascending=False)"
   ]
  },
  {
   "cell_type": "code",
   "execution_count": null,
   "metadata": {
    "collapsed": false
   },
   "outputs": [],
   "source": [
    "df[[\"x\", \"y\"]]"
   ]
  },
  {
   "cell_type": "code",
   "execution_count": null,
   "metadata": {
    "collapsed": false
   },
   "outputs": [],
   "source": [
    "gmaps_place = googlemaps.Client(APIKeys.place)\n",
    "place = gmaps_place.place('ChIJD3uTd9hx5kcR1IQvGfr8dbk')"
   ]
  },
  {
   "cell_type": "code",
   "execution_count": null,
   "metadata": {
    "collapsed": false
   },
   "outputs": [],
   "source": [
    "place"
   ]
  },
  {
   "cell_type": "code",
   "execution_count": null,
   "metadata": {
    "collapsed": false
   },
   "outputs": [],
   "source": [
    "location_paris = (48.852737, 2.350699)\n",
    "places_paris = gmaps_place.places('gallery', location=location_paris, radius=1000)"
   ]
  },
  {
   "cell_type": "code",
   "execution_count": null,
   "metadata": {
    "collapsed": false
   },
   "outputs": [],
   "source": [
    "sorted(places_paris['results'], key=lambda p: p.get('rating', 1), reverse=True)"
   ]
  },
  {
   "cell_type": "code",
   "execution_count": null,
   "metadata": {
    "collapsed": false
   },
   "outputs": [],
   "source": [
    "places_paris[\"results\"]"
   ]
  },
  {
   "cell_type": "code",
   "execution_count": null,
   "metadata": {
    "collapsed": false
   },
   "outputs": [],
   "source": [
    "len(places_paris['results'])"
   ]
  },
  {
   "cell_type": "code",
   "execution_count": null,
   "metadata": {
    "collapsed": false
   },
   "outputs": [],
   "source": [
    "import operator\n",
    "sorted_places = sorted(places_paris['results'], key=operator.itemgetter('rating'), reverse=True)"
   ]
  },
  {
   "cell_type": "code",
   "execution_count": null,
   "metadata": {
    "collapsed": false
   },
   "outputs": [],
   "source": [
    "def get_coord(info):\n",
    "    xy = info['geometry']['location']\n",
    "    return xy['lat'], xy[\"lng\"]\n",
    "\n",
    "coords = map(get_coord, sorted_places[:5])"
   ]
  },
  {
   "cell_type": "code",
   "execution_count": null,
   "metadata": {
    "collapsed": false
   },
   "outputs": [],
   "source": [
    "coords = df[[\"x\", \"y\"]].values[:4]"
   ]
  },
  {
   "cell_type": "code",
   "execution_count": null,
   "metadata": {
    "collapsed": false
   },
   "outputs": [],
   "source": [
    "filename = util.get_dump_filename(\"dist-Paris\", \"outdoor_activity-museum\", \"csv\")"
   ]
  },
  {
   "cell_type": "code",
   "execution_count": null,
   "metadata": {
    "collapsed": true
   },
   "outputs": [],
   "source": [
    "df.T.to_csv(filename)"
   ]
  },
  {
   "cell_type": "code",
   "execution_count": null,
   "metadata": {
    "collapsed": false
   },
   "outputs": [],
   "source": [
    "df = pd.read_csv(\"../dist_matrix.csv\", index_col=0)\n",
    "df"
   ]
  },
  {
   "cell_type": "code",
   "execution_count": null,
   "metadata": {
    "collapsed": false
   },
   "outputs": [],
   "source": [
    "df.T"
   ]
  },
  {
   "cell_type": "code",
   "execution_count": null,
   "metadata": {
    "collapsed": true
   },
   "outputs": [],
   "source": []
  },
  {
   "cell_type": "code",
   "execution_count": null,
   "metadata": {
    "collapsed": true
   },
   "outputs": [],
   "source": []
  },
  {
   "cell_type": "code",
   "execution_count": null,
   "metadata": {
    "collapsed": true
   },
   "outputs": [],
   "source": []
  },
  {
   "cell_type": "code",
   "execution_count": null,
   "metadata": {
    "collapsed": false
   },
   "outputs": [],
   "source": [
    "dist_client = googlemaps.Client(APIKeys.distance)"
   ]
  },
  {
   "cell_type": "code",
   "execution_count": null,
   "metadata": {
    "collapsed": false
   },
   "outputs": [],
   "source": [
    "dist_matrix = dist_client.distance_matrix(coords, coords, mode=\"transit\")"
   ]
  },
  {
   "cell_type": "code",
   "execution_count": null,
   "metadata": {
    "collapsed": false
   },
   "outputs": [],
   "source": [
    "dist_matrix[u'destination_addresses']"
   ]
  },
  {
   "cell_type": "code",
   "execution_count": null,
   "metadata": {
    "collapsed": false
   },
   "outputs": [],
   "source": [
    "dist_matrix['rows'][0]['elements']"
   ]
  },
  {
   "cell_type": "code",
   "execution_count": null,
   "metadata": {
    "collapsed": false
   },
   "outputs": [],
   "source": [
    "result = []\n",
    "for i, row in enumerate(dist_matrix[\"rows\"]):\n",
    "    res = []\n",
    "    for j, element in enumerate(row['elements']):\n",
    "        if i == j:\n",
    "            res0 = 0\n",
    "        else:\n",
    "            res0 = element[\"duration\"][\"value\"]\n",
    "        res.append(res0)\n",
    "    result.append(res)"
   ]
  },
  {
   "cell_type": "code",
   "execution_count": null,
   "metadata": {
    "collapsed": false
   },
   "outputs": [],
   "source": [
    "result"
   ]
  },
  {
   "cell_type": "code",
   "execution_count": null,
   "metadata": {
    "collapsed": false
   },
   "outputs": [],
   "source": [
    "details"
   ]
  },
  {
   "cell_type": "code",
   "execution_count": null,
   "metadata": {
    "collapsed": true
   },
   "outputs": [],
   "source": []
  }
 ],
 "metadata": {
  "kernelspec": {
   "display_name": "Python 2",
   "language": "python",
   "name": "python2"
  },
  "language_info": {
   "codemirror_mode": {
    "name": "ipython",
    "version": 2
   },
   "file_extension": ".py",
   "mimetype": "text/x-python",
   "name": "python",
   "nbconvert_exporter": "python",
   "pygments_lexer": "ipython2",
   "version": "2.7.6"
  }
 },
 "nbformat": 4,
 "nbformat_minor": 2
}
