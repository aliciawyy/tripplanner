{
 "cells": [
  {
   "cell_type": "code",
   "execution_count": 45,
   "metadata": {
    "collapsed": false
   },
   "outputs": [],
   "source": [
    "import googlemaps\n",
    "import pandas as pd\n",
    "import numpy as np\n",
    "from datetime import datetime\n",
    "import util\n",
    "import distance_mat as dm"
   ]
  },
  {
   "cell_type": "code",
   "execution_count": 46,
   "metadata": {
    "collapsed": true
   },
   "outputs": [],
   "source": [
    "city = \"Paris\"\n",
    "interest_list = ['outdoor_activity', \"museum\"]\n",
    "cl_dist = dm.DistanceClient()"
   ]
  },
  {
   "cell_type": "code",
   "execution_count": 47,
   "metadata": {
    "collapsed": false
   },
   "outputs": [],
   "source": [
    "df = cl_dist.get_distance_matrix(city, interest_list)\n",
    "filename = util.get_dump_filename('plan-' + city, \"-\".join(interest_list), ext=\"csv\")"
   ]
  },
  {
   "cell_type": "code",
   "execution_count": 52,
   "metadata": {
    "collapsed": false
   },
   "outputs": [
    {
     "data": {
      "text/html": [
       "<div>\n",
       "<style>\n",
       "    .dataframe thead tr:only-child th {\n",
       "        text-align: right;\n",
       "    }\n",
       "\n",
       "    .dataframe thead th {\n",
       "        text-align: left;\n",
       "    }\n",
       "\n",
       "    .dataframe tbody tr th {\n",
       "        vertical-align: top;\n",
       "    }\n",
       "</style>\n",
       "<table border=\"1\" class=\"dataframe\">\n",
       "  <thead>\n",
       "    <tr style=\"text-align: right;\">\n",
       "      <th></th>\n",
       "      <th>0</th>\n",
       "      <th>1</th>\n",
       "      <th>2</th>\n",
       "      <th>3</th>\n",
       "      <th>4</th>\n",
       "      <th>5</th>\n",
       "      <th>6</th>\n",
       "      <th>7</th>\n",
       "      <th>8</th>\n",
       "      <th>9</th>\n",
       "      <th>10</th>\n",
       "      <th>11</th>\n",
       "      <th>12</th>\n",
       "      <th>13</th>\n",
       "      <th>14</th>\n",
       "    </tr>\n",
       "  </thead>\n",
       "  <tbody>\n",
       "    <tr>\n",
       "      <th>0</th>\n",
       "      <td>0.0</td>\n",
       "      <td>NaN</td>\n",
       "      <td>NaN</td>\n",
       "      <td>NaN</td>\n",
       "      <td>NaN</td>\n",
       "      <td>NaN</td>\n",
       "      <td>NaN</td>\n",
       "      <td>NaN</td>\n",
       "      <td>NaN</td>\n",
       "      <td>NaN</td>\n",
       "      <td>NaN</td>\n",
       "      <td>NaN</td>\n",
       "      <td>NaN</td>\n",
       "      <td>NaN</td>\n",
       "      <td>NaN</td>\n",
       "    </tr>\n",
       "    <tr>\n",
       "      <th>1</th>\n",
       "      <td>753.0</td>\n",
       "      <td>0.0</td>\n",
       "      <td>NaN</td>\n",
       "      <td>NaN</td>\n",
       "      <td>NaN</td>\n",
       "      <td>NaN</td>\n",
       "      <td>NaN</td>\n",
       "      <td>NaN</td>\n",
       "      <td>NaN</td>\n",
       "      <td>NaN</td>\n",
       "      <td>NaN</td>\n",
       "      <td>NaN</td>\n",
       "      <td>NaN</td>\n",
       "      <td>NaN</td>\n",
       "      <td>NaN</td>\n",
       "    </tr>\n",
       "    <tr>\n",
       "      <th>2</th>\n",
       "      <td>1370.0</td>\n",
       "      <td>1372.0</td>\n",
       "      <td>0.0</td>\n",
       "      <td>NaN</td>\n",
       "      <td>NaN</td>\n",
       "      <td>NaN</td>\n",
       "      <td>NaN</td>\n",
       "      <td>NaN</td>\n",
       "      <td>NaN</td>\n",
       "      <td>NaN</td>\n",
       "      <td>NaN</td>\n",
       "      <td>NaN</td>\n",
       "      <td>NaN</td>\n",
       "      <td>NaN</td>\n",
       "      <td>NaN</td>\n",
       "    </tr>\n",
       "    <tr>\n",
       "      <th>3</th>\n",
       "      <td>1058.0</td>\n",
       "      <td>1918.0</td>\n",
       "      <td>1454.0</td>\n",
       "      <td>0.0</td>\n",
       "      <td>NaN</td>\n",
       "      <td>NaN</td>\n",
       "      <td>NaN</td>\n",
       "      <td>NaN</td>\n",
       "      <td>NaN</td>\n",
       "      <td>NaN</td>\n",
       "      <td>NaN</td>\n",
       "      <td>NaN</td>\n",
       "      <td>NaN</td>\n",
       "      <td>NaN</td>\n",
       "      <td>NaN</td>\n",
       "    </tr>\n",
       "    <tr>\n",
       "      <th>4</th>\n",
       "      <td>964.0</td>\n",
       "      <td>1713.0</td>\n",
       "      <td>702.0</td>\n",
       "      <td>1433.0</td>\n",
       "      <td>0.0</td>\n",
       "      <td>NaN</td>\n",
       "      <td>NaN</td>\n",
       "      <td>NaN</td>\n",
       "      <td>NaN</td>\n",
       "      <td>NaN</td>\n",
       "      <td>NaN</td>\n",
       "      <td>NaN</td>\n",
       "      <td>NaN</td>\n",
       "      <td>NaN</td>\n",
       "      <td>NaN</td>\n",
       "    </tr>\n",
       "    <tr>\n",
       "      <th>5</th>\n",
       "      <td>979.0</td>\n",
       "      <td>1641.0</td>\n",
       "      <td>947.0</td>\n",
       "      <td>640.0</td>\n",
       "      <td>1388.0</td>\n",
       "      <td>0.0</td>\n",
       "      <td>NaN</td>\n",
       "      <td>NaN</td>\n",
       "      <td>NaN</td>\n",
       "      <td>NaN</td>\n",
       "      <td>NaN</td>\n",
       "      <td>NaN</td>\n",
       "      <td>NaN</td>\n",
       "      <td>NaN</td>\n",
       "      <td>NaN</td>\n",
       "    </tr>\n",
       "    <tr>\n",
       "      <th>6</th>\n",
       "      <td>705.0</td>\n",
       "      <td>994.0</td>\n",
       "      <td>1203.0</td>\n",
       "      <td>879.0</td>\n",
       "      <td>1258.0</td>\n",
       "      <td>428.0</td>\n",
       "      <td>0.0</td>\n",
       "      <td>NaN</td>\n",
       "      <td>NaN</td>\n",
       "      <td>NaN</td>\n",
       "      <td>NaN</td>\n",
       "      <td>NaN</td>\n",
       "      <td>NaN</td>\n",
       "      <td>NaN</td>\n",
       "      <td>NaN</td>\n",
       "    </tr>\n",
       "    <tr>\n",
       "      <th>7</th>\n",
       "      <td>1009.0</td>\n",
       "      <td>989.0</td>\n",
       "      <td>623.0</td>\n",
       "      <td>1207.0</td>\n",
       "      <td>977.0</td>\n",
       "      <td>792.0</td>\n",
       "      <td>1044.0</td>\n",
       "      <td>0.0</td>\n",
       "      <td>NaN</td>\n",
       "      <td>NaN</td>\n",
       "      <td>NaN</td>\n",
       "      <td>NaN</td>\n",
       "      <td>NaN</td>\n",
       "      <td>NaN</td>\n",
       "      <td>NaN</td>\n",
       "    </tr>\n",
       "    <tr>\n",
       "      <th>8</th>\n",
       "      <td>452.0</td>\n",
       "      <td>630.0</td>\n",
       "      <td>1470.0</td>\n",
       "      <td>1388.0</td>\n",
       "      <td>1222.0</td>\n",
       "      <td>1177.0</td>\n",
       "      <td>753.0</td>\n",
       "      <td>865.0</td>\n",
       "      <td>0.0</td>\n",
       "      <td>NaN</td>\n",
       "      <td>NaN</td>\n",
       "      <td>NaN</td>\n",
       "      <td>NaN</td>\n",
       "      <td>NaN</td>\n",
       "      <td>NaN</td>\n",
       "    </tr>\n",
       "    <tr>\n",
       "      <th>9</th>\n",
       "      <td>985.0</td>\n",
       "      <td>1617.0</td>\n",
       "      <td>1245.0</td>\n",
       "      <td>670.0</td>\n",
       "      <td>1289.0</td>\n",
       "      <td>288.0</td>\n",
       "      <td>823.0</td>\n",
       "      <td>1041.0</td>\n",
       "      <td>1144.0</td>\n",
       "      <td>0.0</td>\n",
       "      <td>NaN</td>\n",
       "      <td>NaN</td>\n",
       "      <td>NaN</td>\n",
       "      <td>NaN</td>\n",
       "      <td>NaN</td>\n",
       "    </tr>\n",
       "    <tr>\n",
       "      <th>10</th>\n",
       "      <td>1098.0</td>\n",
       "      <td>1337.0</td>\n",
       "      <td>448.0</td>\n",
       "      <td>1193.0</td>\n",
       "      <td>722.0</td>\n",
       "      <td>707.0</td>\n",
       "      <td>948.0</td>\n",
       "      <td>630.0</td>\n",
       "      <td>1657.0</td>\n",
       "      <td>1005.0</td>\n",
       "      <td>0.0</td>\n",
       "      <td>NaN</td>\n",
       "      <td>NaN</td>\n",
       "      <td>NaN</td>\n",
       "      <td>NaN</td>\n",
       "    </tr>\n",
       "    <tr>\n",
       "      <th>11</th>\n",
       "      <td>1260.0</td>\n",
       "      <td>1398.0</td>\n",
       "      <td>717.0</td>\n",
       "      <td>1631.0</td>\n",
       "      <td>734.0</td>\n",
       "      <td>1317.0</td>\n",
       "      <td>1450.0</td>\n",
       "      <td>612.0</td>\n",
       "      <td>1406.0</td>\n",
       "      <td>1495.0</td>\n",
       "      <td>859.0</td>\n",
       "      <td>0.0</td>\n",
       "      <td>NaN</td>\n",
       "      <td>NaN</td>\n",
       "      <td>NaN</td>\n",
       "    </tr>\n",
       "    <tr>\n",
       "      <th>12</th>\n",
       "      <td>827.0</td>\n",
       "      <td>1515.0</td>\n",
       "      <td>1688.0</td>\n",
       "      <td>1189.0</td>\n",
       "      <td>1380.0</td>\n",
       "      <td>1231.0</td>\n",
       "      <td>657.0</td>\n",
       "      <td>1316.0</td>\n",
       "      <td>937.0</td>\n",
       "      <td>1522.0</td>\n",
       "      <td>1442.0</td>\n",
       "      <td>1574.0</td>\n",
       "      <td>0.0</td>\n",
       "      <td>NaN</td>\n",
       "      <td>NaN</td>\n",
       "    </tr>\n",
       "    <tr>\n",
       "      <th>13</th>\n",
       "      <td>1109.0</td>\n",
       "      <td>1592.0</td>\n",
       "      <td>1950.0</td>\n",
       "      <td>786.0</td>\n",
       "      <td>1702.0</td>\n",
       "      <td>1212.0</td>\n",
       "      <td>838.0</td>\n",
       "      <td>1413.0</td>\n",
       "      <td>1259.0</td>\n",
       "      <td>1290.0</td>\n",
       "      <td>1418.0</td>\n",
       "      <td>1896.0</td>\n",
       "      <td>526.0</td>\n",
       "      <td>0.0</td>\n",
       "      <td>NaN</td>\n",
       "    </tr>\n",
       "    <tr>\n",
       "      <th>14</th>\n",
       "      <td>864.0</td>\n",
       "      <td>140.0</td>\n",
       "      <td>1377.0</td>\n",
       "      <td>1904.0</td>\n",
       "      <td>1489.0</td>\n",
       "      <td>967.0</td>\n",
       "      <td>897.0</td>\n",
       "      <td>899.0</td>\n",
       "      <td>720.0</td>\n",
       "      <td>1140.0</td>\n",
       "      <td>1243.0</td>\n",
       "      <td>1287.0</td>\n",
       "      <td>1505.0</td>\n",
       "      <td>1614.0</td>\n",
       "      <td>0.0</td>\n",
       "    </tr>\n",
       "  </tbody>\n",
       "</table>\n",
       "</div>"
      ],
      "text/plain": [
       "         0       1       2       3       4       5       6       7       8  \\\n",
       "0      0.0     NaN     NaN     NaN     NaN     NaN     NaN     NaN     NaN   \n",
       "1    753.0     0.0     NaN     NaN     NaN     NaN     NaN     NaN     NaN   \n",
       "2   1370.0  1372.0     0.0     NaN     NaN     NaN     NaN     NaN     NaN   \n",
       "3   1058.0  1918.0  1454.0     0.0     NaN     NaN     NaN     NaN     NaN   \n",
       "4    964.0  1713.0   702.0  1433.0     0.0     NaN     NaN     NaN     NaN   \n",
       "5    979.0  1641.0   947.0   640.0  1388.0     0.0     NaN     NaN     NaN   \n",
       "6    705.0   994.0  1203.0   879.0  1258.0   428.0     0.0     NaN     NaN   \n",
       "7   1009.0   989.0   623.0  1207.0   977.0   792.0  1044.0     0.0     NaN   \n",
       "8    452.0   630.0  1470.0  1388.0  1222.0  1177.0   753.0   865.0     0.0   \n",
       "9    985.0  1617.0  1245.0   670.0  1289.0   288.0   823.0  1041.0  1144.0   \n",
       "10  1098.0  1337.0   448.0  1193.0   722.0   707.0   948.0   630.0  1657.0   \n",
       "11  1260.0  1398.0   717.0  1631.0   734.0  1317.0  1450.0   612.0  1406.0   \n",
       "12   827.0  1515.0  1688.0  1189.0  1380.0  1231.0   657.0  1316.0   937.0   \n",
       "13  1109.0  1592.0  1950.0   786.0  1702.0  1212.0   838.0  1413.0  1259.0   \n",
       "14   864.0   140.0  1377.0  1904.0  1489.0   967.0   897.0   899.0   720.0   \n",
       "\n",
       "         9      10      11      12      13   14  \n",
       "0      NaN     NaN     NaN     NaN     NaN  NaN  \n",
       "1      NaN     NaN     NaN     NaN     NaN  NaN  \n",
       "2      NaN     NaN     NaN     NaN     NaN  NaN  \n",
       "3      NaN     NaN     NaN     NaN     NaN  NaN  \n",
       "4      NaN     NaN     NaN     NaN     NaN  NaN  \n",
       "5      NaN     NaN     NaN     NaN     NaN  NaN  \n",
       "6      NaN     NaN     NaN     NaN     NaN  NaN  \n",
       "7      NaN     NaN     NaN     NaN     NaN  NaN  \n",
       "8      NaN     NaN     NaN     NaN     NaN  NaN  \n",
       "9      0.0     NaN     NaN     NaN     NaN  NaN  \n",
       "10  1005.0     0.0     NaN     NaN     NaN  NaN  \n",
       "11  1495.0   859.0     0.0     NaN     NaN  NaN  \n",
       "12  1522.0  1442.0  1574.0     0.0     NaN  NaN  \n",
       "13  1290.0  1418.0  1896.0   526.0     0.0  NaN  \n",
       "14  1140.0  1243.0  1287.0  1505.0  1614.0  0.0  "
      ]
     },
     "execution_count": 52,
     "metadata": {},
     "output_type": "execute_result"
    }
   ],
   "source": [
    "df"
   ]
  },
  {
   "cell_type": "code",
   "execution_count": 53,
   "metadata": {
    "collapsed": false
   },
   "outputs": [
    {
     "data": {
      "text/html": [
       "<div>\n",
       "<style>\n",
       "    .dataframe thead tr:only-child th {\n",
       "        text-align: right;\n",
       "    }\n",
       "\n",
       "    .dataframe thead th {\n",
       "        text-align: left;\n",
       "    }\n",
       "\n",
       "    .dataframe tbody tr th {\n",
       "        vertical-align: top;\n",
       "    }\n",
       "</style>\n",
       "<table border=\"1\" class=\"dataframe\">\n",
       "  <thead>\n",
       "    <tr style=\"text-align: right;\">\n",
       "      <th></th>\n",
       "      <th>name</th>\n",
       "      <th>day_plan</th>\n",
       "    </tr>\n",
       "  </thead>\n",
       "  <tbody>\n",
       "    <tr>\n",
       "      <th>0</th>\n",
       "      <td>Louvre Museum</td>\n",
       "      <td>0</td>\n",
       "    </tr>\n",
       "    <tr>\n",
       "      <th>1</th>\n",
       "      <td>Musée d'Orsay</td>\n",
       "      <td>1</td>\n",
       "    </tr>\n",
       "    <tr>\n",
       "      <th>2</th>\n",
       "      <td>Musée Curie - Institut Curie</td>\n",
       "      <td>2</td>\n",
       "    </tr>\n",
       "    <tr>\n",
       "      <th>3</th>\n",
       "      <td>Metiers Art Museum</td>\n",
       "      <td>3</td>\n",
       "    </tr>\n",
       "    <tr>\n",
       "      <th>4</th>\n",
       "      <td>National Museum of Natural History</td>\n",
       "      <td>1</td>\n",
       "    </tr>\n",
       "    <tr>\n",
       "      <th>5</th>\n",
       "      <td>The Centre Pompidou</td>\n",
       "      <td>3</td>\n",
       "    </tr>\n",
       "    <tr>\n",
       "      <th>6</th>\n",
       "      <td>Bibliothèque-musée de l'Opéra</td>\n",
       "      <td>4</td>\n",
       "    </tr>\n",
       "    <tr>\n",
       "      <th>7</th>\n",
       "      <td>Cluny Museum - National Museum of Medieval Art</td>\n",
       "      <td>5</td>\n",
       "    </tr>\n",
       "    <tr>\n",
       "      <th>8</th>\n",
       "      <td>Museum of Decorative Arts</td>\n",
       "      <td>0</td>\n",
       "    </tr>\n",
       "    <tr>\n",
       "      <th>9</th>\n",
       "      <td>Museum of Art and History of Judaism</td>\n",
       "      <td>3</td>\n",
       "    </tr>\n",
       "    <tr>\n",
       "      <th>10</th>\n",
       "      <td>Museum of Minerals MINES ParisTech</td>\n",
       "      <td>2</td>\n",
       "    </tr>\n",
       "    <tr>\n",
       "      <th>11</th>\n",
       "      <td>Arab World Institute</td>\n",
       "      <td>5</td>\n",
       "    </tr>\n",
       "    <tr>\n",
       "      <th>12</th>\n",
       "      <td>Museum of Freemasonry</td>\n",
       "      <td>4</td>\n",
       "    </tr>\n",
       "    <tr>\n",
       "      <th>13</th>\n",
       "      <td>Adrenaline Hunter</td>\n",
       "      <td>4</td>\n",
       "    </tr>\n",
       "    <tr>\n",
       "      <th>14</th>\n",
       "      <td>Outdoor Gym</td>\n",
       "      <td>1</td>\n",
       "    </tr>\n",
       "  </tbody>\n",
       "</table>\n",
       "</div>"
      ],
      "text/plain": [
       "                                              name  day_plan\n",
       "0                                    Louvre Museum         0\n",
       "1                                    Musée d'Orsay         1\n",
       "2                     Musée Curie - Institut Curie         2\n",
       "3                               Metiers Art Museum         3\n",
       "4               National Museum of Natural History         1\n",
       "5                              The Centre Pompidou         3\n",
       "6                    Bibliothèque-musée de l'Opéra         4\n",
       "7   Cluny Museum - National Museum of Medieval Art         5\n",
       "8                        Museum of Decorative Arts         0\n",
       "9             Museum of Art and History of Judaism         3\n",
       "10              Museum of Minerals MINES ParisTech         2\n",
       "11                            Arab World Institute         5\n",
       "12                           Museum of Freemasonry         4\n",
       "13                               Adrenaline Hunter         4\n",
       "14                                     Outdoor Gym         1"
      ]
     },
     "execution_count": 53,
     "metadata": {},
     "output_type": "execute_result"
    }
   ],
   "source": [
    "df0 = pd.read_csv(filename)\n",
    "df0[[\"name\", \"day_plan\"]]"
   ]
  },
  {
   "cell_type": "code",
   "execution_count": 29,
   "metadata": {
    "collapsed": false
   },
   "outputs": [],
   "source": [
    "df1 = df + np.eye(len(df)) * cl_dist.max_transit_time"
   ]
  },
  {
   "cell_type": "code",
   "execution_count": 31,
   "metadata": {
    "collapsed": true
   },
   "outputs": [],
   "source": [
    "for i in range(len(df)):\n",
    "    df1.iloc[i, i + 1:] = df.iloc[i + 1:, i].values"
   ]
  },
  {
   "cell_type": "code",
   "execution_count": 44,
   "metadata": {
    "collapsed": false,
    "scrolled": true
   },
   "outputs": [
    {
     "data": {
      "text/plain": [
       "0      8\n",
       "1     14\n",
       "2     10\n",
       "3      5\n",
       "4      2\n",
       "5      9\n",
       "6      5\n",
       "7     11\n",
       "8      0\n",
       "9      5\n",
       "10     2\n",
       "11     7\n",
       "12    13\n",
       "13    12\n",
       "14     1\n",
       "dtype: int64"
      ]
     },
     "execution_count": 44,
     "metadata": {},
     "output_type": "execute_result"
    }
   ],
   "source": [
    "series =df1.idxmin()\n",
    "series.index = series.index.astype(int)\n",
    "series"
   ]
  },
  {
   "cell_type": "code",
   "execution_count": 30,
   "metadata": {
    "collapsed": false
   },
   "outputs": [
    {
     "data": {
      "text/plain": [
       "5     1388.0\n",
       "6     1258.0\n",
       "7      977.0\n",
       "8     1222.0\n",
       "9     1289.0\n",
       "10     722.0\n",
       "11     734.0\n",
       "12    1380.0\n",
       "13    1702.0\n",
       "14    1489.0\n",
       "Name: 4, dtype: float64"
      ]
     },
     "execution_count": 30,
     "metadata": {},
     "output_type": "execute_result"
    }
   ],
   "source": [
    "df.iloc[5:, 4]"
   ]
  },
  {
   "cell_type": "code",
   "execution_count": null,
   "metadata": {
    "collapsed": true
   },
   "outputs": [],
   "source": []
  },
  {
   "cell_type": "code",
   "execution_count": null,
   "metadata": {
    "collapsed": true
   },
   "outputs": [],
   "source": [
    "df_info = cl_dist.regroup_interest_sites(\"Paris\", ['outdoor_activity', \"museum\"]).set_index(\"name\")"
   ]
  },
  {
   "cell_type": "code",
   "execution_count": 21,
   "metadata": {
    "collapsed": false
   },
   "outputs": [
    {
     "data": {
      "text/plain": [
       "3"
      ]
     },
     "execution_count": 21,
     "metadata": {},
     "output_type": "execute_result"
    }
   ],
   "source": [
    "int(2.5) + 1"
   ]
  },
  {
   "cell_type": "code",
   "execution_count": null,
   "metadata": {
    "collapsed": false
   },
   "outputs": [],
   "source": [
    "df[\"photo_ref\"][0]"
   ]
  },
  {
   "cell_type": "code",
   "execution_count": null,
   "metadata": {
    "collapsed": false
   },
   "outputs": [],
   "source": [
    "df = pd.read_csv(util.get_dump_filename(\"Paris\", \"museum\", \"csv\"), index_col=0)\n",
    "df.drop([\"photo_ref\"], 1).sort_values(\"rating\", ascending=False)"
   ]
  },
  {
   "cell_type": "code",
   "execution_count": null,
   "metadata": {
    "collapsed": false
   },
   "outputs": [],
   "source": [
    "df = pd.read_csv(util.get_dump_filename(\"Paris\", \"outdoor_activity\", \"csv\"), index_col=0)\n",
    "df.drop([\"photo_ref\"], 1).sort_values(\"rating\", ascending=False)"
   ]
  },
  {
   "cell_type": "code",
   "execution_count": null,
   "metadata": {
    "collapsed": false
   },
   "outputs": [],
   "source": [
    "df[[\"x\", \"y\"]]"
   ]
  },
  {
   "cell_type": "code",
   "execution_count": null,
   "metadata": {
    "collapsed": false
   },
   "outputs": [],
   "source": [
    "gmaps_place = googlemaps.Client(APIKeys.place)\n",
    "place = gmaps_place.place('ChIJD3uTd9hx5kcR1IQvGfr8dbk')"
   ]
  },
  {
   "cell_type": "code",
   "execution_count": null,
   "metadata": {
    "collapsed": false
   },
   "outputs": [],
   "source": [
    "place"
   ]
  },
  {
   "cell_type": "code",
   "execution_count": null,
   "metadata": {
    "collapsed": false
   },
   "outputs": [],
   "source": [
    "location_paris = (48.852737, 2.350699)\n",
    "places_paris = gmaps_place.places('gallery', location=location_paris, radius=1000)"
   ]
  },
  {
   "cell_type": "code",
   "execution_count": null,
   "metadata": {
    "collapsed": false
   },
   "outputs": [],
   "source": [
    "sorted(places_paris['results'], key=lambda p: p.get('rating', 1), reverse=True)"
   ]
  },
  {
   "cell_type": "code",
   "execution_count": null,
   "metadata": {
    "collapsed": false
   },
   "outputs": [],
   "source": [
    "places_paris[\"results\"]"
   ]
  },
  {
   "cell_type": "code",
   "execution_count": null,
   "metadata": {
    "collapsed": false
   },
   "outputs": [],
   "source": [
    "len(places_paris['results'])"
   ]
  },
  {
   "cell_type": "code",
   "execution_count": null,
   "metadata": {
    "collapsed": false
   },
   "outputs": [],
   "source": [
    "import operator\n",
    "sorted_places = sorted(places_paris['results'], key=operator.itemgetter('rating'), reverse=True)"
   ]
  },
  {
   "cell_type": "code",
   "execution_count": null,
   "metadata": {
    "collapsed": false
   },
   "outputs": [],
   "source": [
    "def get_coord(info):\n",
    "    xy = info['geometry']['location']\n",
    "    return xy['lat'], xy[\"lng\"]\n",
    "\n",
    "coords = map(get_coord, sorted_places[:5])"
   ]
  },
  {
   "cell_type": "code",
   "execution_count": null,
   "metadata": {
    "collapsed": false
   },
   "outputs": [],
   "source": [
    "coords = df[[\"x\", \"y\"]].values[:4]"
   ]
  },
  {
   "cell_type": "code",
   "execution_count": null,
   "metadata": {
    "collapsed": false
   },
   "outputs": [],
   "source": [
    "filename = util.get_dump_filename(\"dist-Paris\", \"outdoor_activity-museum\", \"csv\")"
   ]
  },
  {
   "cell_type": "code",
   "execution_count": null,
   "metadata": {
    "collapsed": true
   },
   "outputs": [],
   "source": [
    "df.T.to_csv(filename)"
   ]
  },
  {
   "cell_type": "code",
   "execution_count": null,
   "metadata": {
    "collapsed": false
   },
   "outputs": [],
   "source": [
    "df = pd.read_csv(\"../dist_matrix.csv\", index_col=0)\n",
    "df"
   ]
  },
  {
   "cell_type": "code",
   "execution_count": null,
   "metadata": {
    "collapsed": false
   },
   "outputs": [],
   "source": [
    "df.T"
   ]
  },
  {
   "cell_type": "code",
   "execution_count": null,
   "metadata": {
    "collapsed": true
   },
   "outputs": [],
   "source": []
  },
  {
   "cell_type": "code",
   "execution_count": null,
   "metadata": {
    "collapsed": true
   },
   "outputs": [],
   "source": []
  },
  {
   "cell_type": "code",
   "execution_count": null,
   "metadata": {
    "collapsed": true
   },
   "outputs": [],
   "source": []
  },
  {
   "cell_type": "code",
   "execution_count": null,
   "metadata": {
    "collapsed": false
   },
   "outputs": [],
   "source": [
    "dist_client = googlemaps.Client(APIKeys.distance)"
   ]
  },
  {
   "cell_type": "code",
   "execution_count": null,
   "metadata": {
    "collapsed": false
   },
   "outputs": [],
   "source": [
    "dist_matrix = dist_client.distance_matrix(coords, coords, mode=\"transit\")"
   ]
  },
  {
   "cell_type": "code",
   "execution_count": null,
   "metadata": {
    "collapsed": false
   },
   "outputs": [],
   "source": [
    "dist_matrix[u'destination_addresses']"
   ]
  },
  {
   "cell_type": "code",
   "execution_count": null,
   "metadata": {
    "collapsed": false
   },
   "outputs": [],
   "source": [
    "dist_matrix['rows'][0]['elements']"
   ]
  },
  {
   "cell_type": "code",
   "execution_count": null,
   "metadata": {
    "collapsed": false
   },
   "outputs": [],
   "source": [
    "result = []\n",
    "for i, row in enumerate(dist_matrix[\"rows\"]):\n",
    "    res = []\n",
    "    for j, element in enumerate(row['elements']):\n",
    "        if i == j:\n",
    "            res0 = 0\n",
    "        else:\n",
    "            res0 = element[\"duration\"][\"value\"]\n",
    "        res.append(res0)\n",
    "    result.append(res)"
   ]
  },
  {
   "cell_type": "code",
   "execution_count": null,
   "metadata": {
    "collapsed": false
   },
   "outputs": [],
   "source": [
    "result"
   ]
  },
  {
   "cell_type": "code",
   "execution_count": null,
   "metadata": {
    "collapsed": false
   },
   "outputs": [],
   "source": [
    "details"
   ]
  },
  {
   "cell_type": "code",
   "execution_count": null,
   "metadata": {
    "collapsed": true
   },
   "outputs": [],
   "source": []
  }
 ],
 "metadata": {
  "kernelspec": {
   "display_name": "Python 2",
   "language": "python",
   "name": "python2"
  },
  "language_info": {
   "codemirror_mode": {
    "name": "ipython",
    "version": 2
   },
   "file_extension": ".py",
   "mimetype": "text/x-python",
   "name": "python",
   "nbconvert_exporter": "python",
   "pygments_lexer": "ipython2",
   "version": "2.7.6"
  }
 },
 "nbformat": 4,
 "nbformat_minor": 2
}
