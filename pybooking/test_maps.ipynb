{
 "cells": [
  {
   "cell_type": "code",
   "execution_count": 22,
   "metadata": {
    "collapsed": false
   },
   "outputs": [
    {
     "data": {
      "text/plain": [
       "{u'address_components': [{u'long_name': u'Paris',\n",
       "   u'short_name': u'Paris',\n",
       "   u'types': [u'locality', u'political']},\n",
       "  {u'long_name': u'Paris',\n",
       "   u'short_name': u'Paris',\n",
       "   u'types': [u'administrative_area_level_2', u'political']},\n",
       "  {u'long_name': u'\\xcele-de-France',\n",
       "   u'short_name': u'\\xcele-de-France',\n",
       "   u'types': [u'administrative_area_level_1', u'political']},\n",
       "  {u'long_name': u'France',\n",
       "   u'short_name': u'FR',\n",
       "   u'types': [u'country', u'political']}],\n",
       " u'formatted_address': u'Paris, France',\n",
       " u'geometry': {u'bounds': {u'northeast': {u'lat': 48.9021449,\n",
       "    u'lng': 2.4699208},\n",
       "   u'southwest': {u'lat': 48.815573, u'lng': 2.224199}},\n",
       "  u'location': {u'lat': 48.856614, u'lng': 2.3522219},\n",
       "  u'location_type': u'APPROXIMATE',\n",
       "  u'viewport': {u'northeast': {u'lat': 48.9021449, u'lng': 2.4699208},\n",
       "   u'southwest': {u'lat': 48.815573, u'lng': 2.225193}}},\n",
       " u'place_id': u'ChIJD7fiBh9u5kcRYJSMaMOCCwQ',\n",
       " u'types': [u'locality', u'political']}"
      ]
     },
     "execution_count": 22,
     "metadata": {},
     "output_type": "execute_result"
    }
   ],
   "source": [
    "import googlemaps\n",
    "from datetime import datetime\n",
    "from util import APIKeys\n",
    "\n",
    "gmaps_geo = googlemaps.Client(key=APIKeys.geocode)\n",
    "\n",
    "# Geocoding an address\n",
    "geocode_result = gmaps.geocode('Paris')\n",
    "geocode_result[0]"
   ]
  },
  {
   "cell_type": "code",
   "execution_count": 3,
   "metadata": {
    "collapsed": false
   },
   "outputs": [],
   "source": [
    "gmaps_place = googlemaps.Client(APIKeys.place)\n",
    "place = gmaps.place('ChIJd8BlQ2BZwokRAFUEcm_qrcA')"
   ]
  },
  {
   "cell_type": "code",
   "execution_count": 4,
   "metadata": {
    "collapsed": false
   },
   "outputs": [
    {
     "data": {
      "text/plain": [
       "{u'html_attributions': [],\n",
       " u'result': {u'address_components': [{u'long_name': u'277',\n",
       "    u'short_name': u'277',\n",
       "    u'types': [u'street_number']},\n",
       "   {u'long_name': u'Bedford Avenue',\n",
       "    u'short_name': u'Bedford Ave',\n",
       "    u'types': [u'route']},\n",
       "   {u'long_name': u'Williamsburg',\n",
       "    u'short_name': u'Williamsburg',\n",
       "    u'types': [u'neighborhood', u'political']},\n",
       "   {u'long_name': u'Brooklyn',\n",
       "    u'short_name': u'Brooklyn',\n",
       "    u'types': [u'sublocality_level_1', u'sublocality', u'political']},\n",
       "   {u'long_name': u'Kings County',\n",
       "    u'short_name': u'Kings County',\n",
       "    u'types': [u'administrative_area_level_2', u'political']},\n",
       "   {u'long_name': u'New York',\n",
       "    u'short_name': u'NY',\n",
       "    u'types': [u'administrative_area_level_1', u'political']},\n",
       "   {u'long_name': u'United States',\n",
       "    u'short_name': u'US',\n",
       "    u'types': [u'country', u'political']},\n",
       "   {u'long_name': u'11211',\n",
       "    u'short_name': u'11211',\n",
       "    u'types': [u'postal_code']}],\n",
       "  u'adr_address': u'<span class=\"street-address\">277 Bedford Ave</span>, <span class=\"locality\">Brooklyn</span>, <span class=\"region\">NY</span> <span class=\"postal-code\">11211</span>, <span class=\"country-name\">USA</span>',\n",
       "  u'formatted_address': u'277 Bedford Ave, Brooklyn, NY 11211, USA',\n",
       "  u'geometry': {u'location': {u'lat': 40.7142205, u'lng': -73.9612903},\n",
       "   u'viewport': {u'northeast': {u'lat': 40.71559883029149,\n",
       "     u'lng': -73.9600127697085},\n",
       "    u'southwest': {u'lat': 40.7129008697085, u'lng': -73.9627107302915}}},\n",
       "  u'icon': u'https://maps.gstatic.com/mapfiles/place_api/icons/geocode-71.png',\n",
       "  u'id': u'c7d33e5df674c46a213756b1516d94d07f08a112',\n",
       "  u'name': u'277 Bedford Ave',\n",
       "  u'place_id': u'ChIJd8BlQ2BZwokRAFUEcm_qrcA',\n",
       "  u'reference': u'CmRbAAAA3YatHas8tTKtNhSCtpQ1XGU5Up8GUSBG0etqscEhRrvoC8uSh_DNXZQ89igScFiplKmv78ICDwjVDSUgmc7a6bQjF6IixEHJSah0LueYR9fA_lBJXDlTrfAhbusMQjUGEhCWF3MF7a8Vyrgryu45_u2eGhSfrAYDUxyqItfw7_XG4dXyAAcbNw',\n",
       "  u'scope': u'GOOGLE',\n",
       "  u'types': [u'street_address'],\n",
       "  u'url': u'https://maps.google.com/?q=277+Bedford+Ave,+Brooklyn,+NY+11211,+USA&ftid=0x89c259604365c077:0xc0adea6f72045500',\n",
       "  u'utc_offset': -240,\n",
       "  u'vicinity': u'Brooklyn'},\n",
       " u'status': u'OK'}"
      ]
     },
     "execution_count": 4,
     "metadata": {},
     "output_type": "execute_result"
    }
   ],
   "source": [
    "place"
   ]
  },
  {
   "cell_type": "code",
   "execution_count": 5,
   "metadata": {
    "collapsed": false
   },
   "outputs": [],
   "source": [
    "location_paris = (48.852737, 2.350699)\n",
    "places_paris = gmaps_place.places('museum', location=location_paris, radius=1000)"
   ]
  },
  {
   "cell_type": "code",
   "execution_count": 6,
   "metadata": {
    "collapsed": false
   },
   "outputs": [
    {
     "data": {
      "text/plain": [
       "20"
      ]
     },
     "execution_count": 6,
     "metadata": {},
     "output_type": "execute_result"
    }
   ],
   "source": [
    "len(places_paris['results'])"
   ]
  },
  {
   "cell_type": "code",
   "execution_count": 7,
   "metadata": {
    "collapsed": false
   },
   "outputs": [],
   "source": [
    "import operator\n",
    "sorted_places = sorted(places_paris['results'], key=operator.itemgetter('rating'), reverse=True)"
   ]
  },
  {
   "cell_type": "code",
   "execution_count": 16,
   "metadata": {
    "collapsed": false
   },
   "outputs": [],
   "source": [
    "def get_coord(info):\n",
    "    xy = info['geometry']['location']\n",
    "    return xy['lat'], xy[\"lng\"]\n",
    "\n",
    "coords = map(get_coord, sorted_places[:5])"
   ]
  },
  {
   "cell_type": "code",
   "execution_count": 17,
   "metadata": {
    "collapsed": false
   },
   "outputs": [
    {
     "data": {
      "text/plain": [
       "[(48.8606111, 2.337644),\n",
       " (48.8599614, 2.3265614),\n",
       " (48.8433108, 2.3634848),\n",
       " (48.8443425, 2.3562101),\n",
       " (48.84422350000001, 2.3448276)]"
      ]
     },
     "execution_count": 17,
     "metadata": {},
     "output_type": "execute_result"
    }
   ],
   "source": [
    "coords"
   ]
  },
  {
   "cell_type": "code",
   "execution_count": 13,
   "metadata": {
    "collapsed": false
   },
   "outputs": [],
   "source": [
    "dist_client = googlemaps.Client(APIKeys.distance)"
   ]
  },
  {
   "cell_type": "code",
   "execution_count": 18,
   "metadata": {
    "collapsed": true
   },
   "outputs": [],
   "source": [
    "dist_matrix = dist_client.distance_matrix(coords, coords)"
   ]
  },
  {
   "cell_type": "code",
   "execution_count": 19,
   "metadata": {
    "collapsed": false
   },
   "outputs": [
    {
     "data": {
      "text/plain": [
       "{u'destination_addresses': [u'164 Rue de Rivoli, 75001 Paris-1ER-Arrondissement, France',\n",
       "  u'58 Place Henry de Montherlant, 75007 Paris, France',\n",
       "  u'2-4 Rue Buffon, 75005 Paris, France',\n",
       "  u'57 Rue Cuvier, 75005 Paris, France',\n",
       "  u'2 Rue Pierre et Marie Curie, 75005 Paris, France'],\n",
       " u'origin_addresses': [u'164 Rue de Rivoli, 75001 Paris-1ER-Arrondissement, France',\n",
       "  u'58 Place Henry de Montherlant, 75007 Paris, France',\n",
       "  u'2-4 Rue Buffon, 75005 Paris, France',\n",
       "  u'57 Rue Cuvier, 75005 Paris, France',\n",
       "  u'2 Rue Pierre et Marie Curie, 75005 Paris, France'],\n",
       " u'rows': [{u'elements': [{u'distance': {u'text': u'1 m', u'value': 0},\n",
       "     u'duration': {u'text': u'1 min', u'value': 0},\n",
       "     u'status': u'OK'},\n",
       "    {u'distance': {u'text': u'1.2 km', u'value': 1236},\n",
       "     u'duration': {u'text': u'4 mins', u'value': 263},\n",
       "     u'status': u'OK'},\n",
       "    {u'distance': {u'text': u'4.6 km', u'value': 4603},\n",
       "     u'duration': {u'text': u'16 mins', u'value': 942},\n",
       "     u'status': u'OK'},\n",
       "    {u'distance': {u'text': u'4.1 km', u'value': 4115},\n",
       "     u'duration': {u'text': u'16 mins', u'value': 979},\n",
       "     u'status': u'OK'},\n",
       "    {u'distance': {u'text': u'4.0 km', u'value': 4021},\n",
       "     u'duration': {u'text': u'15 mins', u'value': 915},\n",
       "     u'status': u'OK'}]},\n",
       "  {u'elements': [{u'distance': {u'text': u'3.1 km', u'value': 3115},\n",
       "     u'duration': {u'text': u'9 mins', u'value': 511},\n",
       "     u'status': u'OK'},\n",
       "    {u'distance': {u'text': u'1 m', u'value': 0},\n",
       "     u'duration': {u'text': u'1 min', u'value': 0},\n",
       "     u'status': u'OK'},\n",
       "    {u'distance': {u'text': u'4.3 km', u'value': 4261},\n",
       "     u'duration': {u'text': u'15 mins', u'value': 918},\n",
       "     u'status': u'OK'},\n",
       "    {u'distance': {u'text': u'4.0 km', u'value': 4037},\n",
       "     u'duration': {u'text': u'15 mins', u'value': 900},\n",
       "     u'status': u'OK'},\n",
       "    {u'distance': {u'text': u'3.9 km', u'value': 3943},\n",
       "     u'duration': {u'text': u'14 mins', u'value': 850},\n",
       "     u'status': u'OK'}]},\n",
       "  {u'elements': [{u'distance': {u'text': u'4.2 km', u'value': 4151},\n",
       "     u'duration': {u'text': u'15 mins', u'value': 918},\n",
       "     u'status': u'OK'},\n",
       "    {u'distance': {u'text': u'4.3 km', u'value': 4255},\n",
       "     u'duration': {u'text': u'13 mins', u'value': 788},\n",
       "     u'status': u'OK'},\n",
       "    {u'distance': {u'text': u'1 m', u'value': 0},\n",
       "     u'duration': {u'text': u'1 min', u'value': 0},\n",
       "     u'status': u'OK'},\n",
       "    {u'distance': {u'text': u'1.3 km', u'value': 1323},\n",
       "     u'duration': {u'text': u'5 mins', u'value': 282},\n",
       "     u'status': u'OK'},\n",
       "    {u'distance': {u'text': u'2.2 km', u'value': 2174},\n",
       "     u'duration': {u'text': u'8 mins', u'value': 491},\n",
       "     u'status': u'OK'}]},\n",
       "  {u'elements': [{u'distance': {u'text': u'3.4 km', u'value': 3361},\n",
       "     u'duration': {u'text': u'13 mins', u'value': 788},\n",
       "     u'status': u'OK'},\n",
       "    {u'distance': {u'text': u'3.5 km', u'value': 3466},\n",
       "     u'duration': {u'text': u'11 mins', u'value': 659},\n",
       "     u'status': u'OK'},\n",
       "    {u'distance': {u'text': u'1.4 km', u'value': 1379},\n",
       "     u'duration': {u'text': u'6 mins', u'value': 355},\n",
       "     u'status': u'OK'},\n",
       "    {u'distance': {u'text': u'1 m', u'value': 0},\n",
       "     u'duration': {u'text': u'1 min', u'value': 0},\n",
       "     u'status': u'OK'},\n",
       "    {u'distance': {u'text': u'1.9 km', u'value': 1922},\n",
       "     u'duration': {u'text': u'9 mins', u'value': 521},\n",
       "     u'status': u'OK'}]},\n",
       "  {u'elements': [{u'distance': {u'text': u'2.8 km', u'value': 2845},\n",
       "     u'duration': {u'text': u'12 mins', u'value': 695},\n",
       "     u'status': u'OK'},\n",
       "    {u'distance': {u'text': u'3.0 km', u'value': 2950},\n",
       "     u'duration': {u'text': u'10 mins', u'value': 578},\n",
       "     u'status': u'OK'},\n",
       "    {u'distance': {u'text': u'3.2 km', u'value': 3177},\n",
       "     u'duration': {u'text': u'12 mins', u'value': 735},\n",
       "     u'status': u'OK'},\n",
       "    {u'distance': {u'text': u'2.6 km', u'value': 2585},\n",
       "     u'duration': {u'text': u'10 mins', u'value': 622},\n",
       "     u'status': u'OK'},\n",
       "    {u'distance': {u'text': u'1 m', u'value': 0},\n",
       "     u'duration': {u'text': u'1 min', u'value': 0},\n",
       "     u'status': u'OK'}]}],\n",
       " u'status': u'OK'}"
      ]
     },
     "execution_count": 19,
     "metadata": {},
     "output_type": "execute_result"
    }
   ],
   "source": [
    "dist_matrix"
   ]
  },
  {
   "cell_type": "code",
   "execution_count": 41,
   "metadata": {
    "collapsed": false
   },
   "outputs": [
    {
     "data": {
      "text/plain": [
       "{u'html_attributions': [],\n",
       " u'result': {u'address_components': [{u'long_name': u'1',\n",
       "    u'short_name': u'1',\n",
       "    u'types': [u'street_number']},\n",
       "   {u'long_name': u\"Rue de la L\\xe9gion d'Honneur\",\n",
       "    u'short_name': u\"Rue de la L\\xe9gion d'Honneur\",\n",
       "    u'types': [u'route']},\n",
       "   {u'long_name': u'Paris',\n",
       "    u'short_name': u'Paris',\n",
       "    u'types': [u'locality', u'political']},\n",
       "   {u'long_name': u'Paris',\n",
       "    u'short_name': u'Paris',\n",
       "    u'types': [u'administrative_area_level_2', u'political']},\n",
       "   {u'long_name': u'\\xcele-de-France',\n",
       "    u'short_name': u'\\xcele-de-France',\n",
       "    u'types': [u'administrative_area_level_1', u'political']},\n",
       "   {u'long_name': u'France',\n",
       "    u'short_name': u'FR',\n",
       "    u'types': [u'country', u'political']},\n",
       "   {u'long_name': u'75007',\n",
       "    u'short_name': u'75007',\n",
       "    u'types': [u'postal_code']}],\n",
       "  u'adr_address': u'<span class=\"street-address\">1 Rue de la L\\xe9gion d&#39;Honneur</span>, <span class=\"postal-code\">75007</span> <span class=\"locality\">Paris</span>, <span class=\"country-name\">France</span>',\n",
       "  u'formatted_address': u\"1 Rue de la L\\xe9gion d'Honneur, 75007 Paris, France\",\n",
       "  u'formatted_phone_number': u'01 40 49 48 14',\n",
       "  u'geometry': {u'location': {u'lat': 48.8599614, u'lng': 2.3265614},\n",
       "   u'viewport': {u'northeast': {u'lat': 48.8615291302915, u'lng': 2.3275171},\n",
       "    u'southwest': {u'lat': 48.8588311697085, u'lng': 2.3236943}}},\n",
       "  u'icon': u'https://maps.gstatic.com/mapfiles/place_api/icons/museum-71.png',\n",
       "  u'id': u'324ebea255dabc1cb3a5ca92839d3949530e05e3',\n",
       "  u'international_phone_number': u'+33 1 40 49 48 14',\n",
       "  u'name': u\"Mus\\xe9e d'Orsay\",\n",
       "  u'opening_hours': {u'open_now': True,\n",
       "   u'periods': [{u'close': {u'day': 0, u'time': u'1800'},\n",
       "     u'open': {u'day': 0, u'time': u'0930'}},\n",
       "    {u'close': {u'day': 2, u'time': u'1800'},\n",
       "     u'open': {u'day': 2, u'time': u'0930'}},\n",
       "    {u'close': {u'day': 3, u'time': u'1800'},\n",
       "     u'open': {u'day': 3, u'time': u'0930'}},\n",
       "    {u'close': {u'day': 4, u'time': u'2145'},\n",
       "     u'open': {u'day': 4, u'time': u'0930'}},\n",
       "    {u'close': {u'day': 5, u'time': u'1800'},\n",
       "     u'open': {u'day': 5, u'time': u'0930'}},\n",
       "    {u'close': {u'day': 6, u'time': u'1800'},\n",
       "     u'open': {u'day': 6, u'time': u'0930'}}],\n",
       "   u'weekday_text': [u'Monday: Closed',\n",
       "    u'Tuesday: 9:30 AM \\u2013 6:00 PM',\n",
       "    u'Wednesday: 9:30 AM \\u2013 6:00 PM',\n",
       "    u'Thursday: 9:30 AM \\u2013 9:45 PM',\n",
       "    u'Friday: 9:30 AM \\u2013 6:00 PM',\n",
       "    u'Saturday: 9:30 AM \\u2013 6:00 PM',\n",
       "    u'Sunday: 9:30 AM \\u2013 6:00 PM']},\n",
       "  u'photos': [{u'height': 2136,\n",
       "    u'html_attributions': [u'<a href=\"https://maps.google.com/maps/contrib/104198155525513925723/photos\">Endre Horv\\xe1th</a>'],\n",
       "    u'photo_reference': u'CmRaAAAAzhDSiPZx6-kULi8-ocH2IN7m1Ds7PEXugus5hanzVL7YGDkSITyw3EKxkoNr0eTkADLLqFYvZAbQOikOHE0_Qop7WMzTHalw8w9TQPZq3ODJy7B2uATSBU1KLs8jktMvEhBQLty3RvOglzvHBNx38BW6GhScts7VEL8ZPSDckM9fvCFq9woGUQ',\n",
       "    u'width': 2848},\n",
       "   {u'height': 4000,\n",
       "    u'html_attributions': [u'<a href=\"https://maps.google.com/maps/contrib/107087610200049831746/photos\">Laurent Ribardiere</a>'],\n",
       "    u'photo_reference': u'CmRaAAAA1B4e51a7QoTLvqtzyQQwBaH4cOKoO0CWFhrBlDkZNZwCA1aGnq941vS4Vhd25mrVUbguw_yoESUBCADdi7buS59H85VHQ_9xvrirsHLi4xggVZ9xoyHBaVpKRTUiIxl7EhChGb1Q5G0j3Fku5S0qIX-EGhTBHHF0f06Es5bvV5a7K93m7jrdBA',\n",
       "    u'width': 6000},\n",
       "   {u'height': 720,\n",
       "    u'html_attributions': [u'<a href=\"https://maps.google.com/maps/contrib/106468660344690591696/photos\">Carmen Garrido</a>'],\n",
       "    u'photo_reference': u'CmRaAAAAj11xid50x7BW1_zXLw7jDvYaC7XAtNJc-DJqKL7QHeCHOZUE1EvUj3mIDCUbx_6LUhn7yo3lKhqCJzrl7OxFscnrzjUiIcV9YCUh6Bfn3NThh8hMADsaooaZkEGvv5YgEhDYXYLabE3p5JYFEPE-6-AXGhSMwBTtgSzHJLmdeAv2cLYv4U7pog',\n",
       "    u'width': 1280},\n",
       "   {u'height': 3456,\n",
       "    u'html_attributions': [u'<a href=\"https://maps.google.com/maps/contrib/117555632629725659060/photos\">Acisclo Pedraza</a>'],\n",
       "    u'photo_reference': u'CmRaAAAAXKMQJZ8ZTgWMw1trS4ccir5qi6VK_UFQxzisAUdfV1E9wOJOlDdYpKhrJk1hALYf6LYX-ablvjolB3c1qjgz081KfbT7GyomHLAvOoNds0HHl6MFsWKStZbqrJ9A76f2EhDG0FnK5SC35Y5Ve3vcbWqzGhS-ReC125kpA3ogWl0zR-CtvCdiPQ',\n",
       "    u'width': 4608},\n",
       "   {u'height': 2988,\n",
       "    u'html_attributions': [u'<a href=\"https://maps.google.com/maps/contrib/107436060885793511000/photos\">\\uc774\\uc8fc\\ud604</a>'],\n",
       "    u'photo_reference': u'CmRaAAAAhNAfO4PAOmEbVUpoLoTX7P2zJ4A1oqQ_kjdoJP9tisfpnZ-3E9IkilebhfJLIA4WQ2zwT_ZcMMN7KLvNj62g39TqsAB4mC8fZ25kqHbWS53nG_ct_PoyEByNpD_a-zzlEhA4Bcc6sZ2ekd_Jn9lSpn-XGhRvcRlPca9kPPITbXI5oXtou6-Ghw',\n",
       "    u'width': 5312},\n",
       "   {u'height': 4160,\n",
       "    u'html_attributions': [u'<a href=\"https://maps.google.com/maps/contrib/101363280752455143771/photos\">fabienne tardif</a>'],\n",
       "    u'photo_reference': u'CmRaAAAADiFkP0-Peuju0fwOeC4MtrNFms0m07IejGaVeCxliTM9MUrpkTkM6q20-gBU9fpaXPUqLB8sW4jXeD5ITvTufpdwmEjBveUqqNyqWITnbQRX5531yPYXwrYajt10Pc77EhC5k2QRw9grHxstICySGuM7GhSORem9O8NZVniWhvtDxvo8yUtQbQ',\n",
       "    u'width': 2336},\n",
       "   {u'height': 3024,\n",
       "    u'html_attributions': [u'<a href=\"https://maps.google.com/maps/contrib/110326746051564608235/photos\">Pack Heng</a>'],\n",
       "    u'photo_reference': u'CmRaAAAAuXUws0TBPpPxxE2pBgqJ-KCH7mEtkjC1dMjvr334AOWHXGZI_5VeKIvpWDAgHjCzuz6BkJjsEzJj14L2zCvbneQwnf0M4QUjnRp4St-QbZXi5XxPiCEupXo0-v3_8xM_EhCUgBODRODwxIEzf--LFwvtGhT5TH86tQfinmPwNH9usH-P1PkAgw',\n",
       "    u'width': 4032},\n",
       "   {u'height': 3024,\n",
       "    u'html_attributions': [u'<a href=\"https://maps.google.com/maps/contrib/101937556005072013828/photos\">robert kolesar</a>'],\n",
       "    u'photo_reference': u'CmRaAAAA4bWUEObgaeSHy_ncqS9KEIxfmNbLMUkF8IwwyEh3U_xuCqUHXDFTBg1vQd36ovle1IVDEmpW6WTg1r3fFB6xo-TgRMSEoxQydWXxrG5AwPaHQxHp4quBrXfc1jiDGd2WEhCdsPbxGfC2QAfsuBQGP6uKGhTGNhF2hbqYaAuASQRLny6H-iQEDg',\n",
       "    u'width': 4032},\n",
       "   {u'height': 1840,\n",
       "    u'html_attributions': [u'<a href=\"https://maps.google.com/maps/contrib/112913282194777960218/photos\">Alessandro A.</a>'],\n",
       "    u'photo_reference': u'CmRaAAAASNZbkjy9Z03MjHPizLRz8b0ySLy0mdvccSAicqZFcJXjQvtjY8z3KABV3gHTas0n1wKRRuY9ENkGAHdMbkSeL3kTWE7rlgBoY3NoWkCRzr3KTyrngX67bM4LlbnwerqLEhATsHTNtFNKDPXusjeISUVDGhTFGw-vE0C39A1uCvA2oVCNRLgcAg',\n",
       "    u'width': 3264},\n",
       "   {u'height': 1280,\n",
       "    u'html_attributions': [u'<a href=\"https://maps.google.com/maps/contrib/105594615784619951390/photos\">Mel Figueroa</a>'],\n",
       "    u'photo_reference': u'CmRaAAAAzAsdsjBHf6m5cly6VvtMcYxYH9TM9ojdV8WfZe41UqJJdH2qx-_RBE0sZtibNc6T0JVE77KN3wE_te9J04B2fO28fh9Z4nGY-mhtplFmE34vGuo94mUckDGnTMB58mHYEhBYDW601QwAuQY0GBys4CroGhTQIcA_eevkpsst0aB5d30LOd9S-g',\n",
       "    u'width': 1920}],\n",
       "  u'place_id': u'ChIJG5Qwtitu5kcR2CNEsYy9cdA',\n",
       "  u'rating': 4.5,\n",
       "  u'reference': u'CmRSAAAAu2Pm_3fE6w19cAhtn9vWZFxbN28u6CTB0dC-FtmtSemtuUxvQPKq8Vs3gNxOpKAhPqFGzgDznZlX8TchN2uh4YPHC3jBDIzpyepM30Lq3aKhPmM95VWUVwiaZP1dlO57EhDrJH5j2l0BvxIPL-6976SzGhS5IJP6igbocQofoNNdSETPWk468w',\n",
       "  u'reviews': [{u'author_name': u'Doug H',\n",
       "    u'author_url': u'https://www.google.com/maps/contrib/112851376468277035664/reviews',\n",
       "    u'language': u'en',\n",
       "    u'profile_photo_url': u'https://lh4.googleusercontent.com/-LI14P9D-KC0/AAAAAAAAAAI/AAAAAAAAAAA/AMp5VUr4Zhd719R279Pw46bVdMb1-a1yLg/s128-c0x00000000-cc-rp-mo/photo.jpg',\n",
       "    u'rating': 5,\n",
       "    u'relative_time_description': u'2 weeks ago',\n",
       "    u'text': u\"Highly recommended.\\nThe building is beautiful, the art is fantastic. When we were there there was a particular exhibit of Cezanne so you could see his talent strengthen over the years with repeated sittings with the same models. \\nThe collection of impressionist paintings is spectacular. The Salon non-recognition meant most were 'starving.' The way their lives intertwined is interesting to consider, even to including J'Accuse Emile Zola. Even a famous painting by Whistler. \\nThe statues are all top rate. You don't get lost or overwhelmed by crowds. A most comfortable experience, a real treasure. \",\n",
       "    u'time': 1499717589},\n",
       "   {u'author_name': u'Cristina Olano',\n",
       "    u'author_url': u'https://www.google.com/maps/contrib/105624707432226059431/reviews',\n",
       "    u'language': u'en',\n",
       "    u'profile_photo_url': u'https://lh4.googleusercontent.com/-wcWUbcHNkyY/AAAAAAAAAAI/AAAAAAAAAAA/AMp5VUoacKBaJTGsdzaijsyy9Wz0Vv6bUA/s128-c0x00000000-cc-rp-mo-ba4/photo.jpg',\n",
       "    u'rating': 4,\n",
       "    u'relative_time_description': u'in the last week',\n",
       "    u'text': u'This is one of my favorite museums now. One can take their time looking at all the pieces that are showcased here. \\nI suggest coming early and using the audio tour. I came alone and spent hours just looking at everything. The summer months can get a bit crowded so be patient. \\nMake sure you bring a camera with plenty of memory space as there will be lots of things to take pics of. ',\n",
       "    u'time': 1500531149},\n",
       "   {u'author_name': u'richard lee',\n",
       "    u'author_url': u'https://www.google.com/maps/contrib/115837711118229068329/reviews',\n",
       "    u'language': u'en',\n",
       "    u'profile_photo_url': u'https://lh3.googleusercontent.com/-kDfV3EZ6vaw/AAAAAAAAAAI/AAAAAAAAAAA/AMp5VUrY5SA2ajFd2EL-t3XxYOz8zVvhdQ/s128-c0x00000000-cc-rp-mo/photo.jpg',\n",
       "    u'rating': 2,\n",
       "    u'relative_time_description': u'2 weeks ago',\n",
       "    u'text': u'Yesterday, July 5th (Wed), I arrived at the museum at around 5pm. All I wanted to do was to buy some souvenirs for my students. When I was about to get into the building from the C and D entrances, three security guards stopped me. One guy asked me if I had a ticket or not. I said no and tried to explain why I wanna get there. He cut my words and kept saying \\'no.\\' Until this conversation, I spoke in French even though my French is bad. It was because I thought it\\'s a way of respect. But I was so mad that I changed the language to English. I said, \"I just wanna buy some gifts from the souvenir shop.\" Those three guys talked in French and the one guy who annoyed me said \"you should change your words and tone. Calm down.\" I was gonna say \"it is you who interrupted my explanation and did not listen to my words.\" But I didn\\'t. I just ignored and got into the building right after he said \\'go.\\'\\n\\nFirst, you guys really need to learn how to deal with people with a polite manner. I can\\'t believe that he did not say sorry to me. Rather, he talked to me that I was the one who did wrongdoings. \\n\\nSecond, when you are arguing with French people, don\\'t speak in their language. They would think of you as a easy and dumb foreigner and acted in a worse way. They need to be disciplined.',\n",
       "    u'time': 1499337031},\n",
       "   {u'author_name': u'Mark Dix',\n",
       "    u'author_url': u'https://www.google.com/maps/contrib/116564241061559965352/reviews',\n",
       "    u'language': u'en',\n",
       "    u'profile_photo_url': u'https://lh6.googleusercontent.com/-tqBoBV_sfSI/AAAAAAAAAAI/AAAAAAAAAVg/Aft633sLqAg/s128-c0x00000000-cc-rp-mo-ba3/photo.jpg',\n",
       "    u'rating': 5,\n",
       "    u'relative_time_description': u'in the last week',\n",
       "    u'text': u\"Every bit as good as the Louvre (I went there too) only much more manageable, the building is a stunning re use of an old train station and it brings together the old iron work and new stonework beautifully. There are a number of incredible piece of art inside and the introductions to the different collections are presented in French, English and I think it was Spanish. \\nThe only negative (and to be fair its not the museums fault) is the continuous photo taking... I mean really people? You've travelled miles (in some cases thousands of miles) and instead of looking at the genuine work of art right there in front of you, you look at the screen on your phone and press click, so you can put your crappy snap on Facebook. It is the most rage inducing thing to have happen in a gallery or museum, you are there face to face with an item that has captured a thought, feeling and moment or likeness that has resonated over ages and has brought joy to so many people for so long, a work of passion and skill, there you are... And then 'CLICK' 'click click click' as some Muppet waves their iPhone around and then strides of to the next piece. \\n\\nRant over\\n\\nThe museum is amazing though. \",\n",
       "    u'time': 1500401284},\n",
       "   {u'author_name': u'Iain Hampton',\n",
       "    u'author_url': u'https://www.google.com/maps/contrib/112131248912560029425/reviews',\n",
       "    u'language': u'en',\n",
       "    u'profile_photo_url': u'https://lh3.googleusercontent.com/-ma8IHqSoct4/AAAAAAAAAAI/AAAAAAAAAAA/AMp5VUqX6ug1rOasvJqgjDBb8gSoci8KEA/s128-c0x00000000-cc-rp-mo-ba2/photo.jpg',\n",
       "    u'rating': 4,\n",
       "    u'relative_time_description': u'a week ago',\n",
       "    u'text': u'This is one of the must see places in Paris. We spent the whole day there enjoyed it. Had to stop off for at the cafes for a rest , not too bad.\\nGreat art work especially the impressionists work. Get there and take your time.',\n",
       "    u'time': 1500277531}],\n",
       "  u'scope': u'GOOGLE',\n",
       "  u'types': [u'museum', u'point_of_interest', u'establishment'],\n",
       "  u'url': u'https://maps.google.com/?cid=15019994644224418776',\n",
       "  u'utc_offset': 120,\n",
       "  u'vicinity': u\"1 Rue de la L\\xe9gion d'Honneur, Paris\",\n",
       "  u'website': u'http://www.musee-orsay.fr/'},\n",
       " u'status': u'OK'}"
      ]
     },
     "execution_count": 41,
     "metadata": {},
     "output_type": "execute_result"
    }
   ],
   "source": [
    "dist_client.distance_matrix( mode=\"walking\")"
   ]
  },
  {
   "cell_type": "code",
   "execution_count": null,
   "metadata": {
    "collapsed": true
   },
   "outputs": [],
   "source": []
  }
 ],
 "metadata": {
  "kernelspec": {
   "display_name": "Python 2",
   "language": "python",
   "name": "python2"
  },
  "language_info": {
   "codemirror_mode": {
    "name": "ipython",
    "version": 2
   },
   "file_extension": ".py",
   "mimetype": "text/x-python",
   "name": "python",
   "nbconvert_exporter": "python",
   "pygments_lexer": "ipython2",
   "version": "2.7.6"
  }
 },
 "nbformat": 4,
 "nbformat_minor": 2
}
